{
 "cells": [
  {
   "cell_type": "code",
   "execution_count": 1,
   "metadata": {
    "id": "vK5mwzW5tM9W"
   },
   "outputs": [],
   "source": [
    "import pandas as pd \n",
    "import seaborn as sns\n",
    "from mpl_toolkits.mplot3d import Axes3D\n",
    "from sklearn.preprocessing import StandardScaler\n",
    "import matplotlib.pyplot as plt # plotting\n",
    "import numpy as np # linear algebra\n",
    "import os # accessing directory structure"
   ]
  },
  {
   "cell_type": "code",
   "execution_count": 54,
   "metadata": {},
   "outputs": [
    {
     "name": "stdout",
     "output_type": "stream",
     "text": [
      "Defaulting to user installation because normal site-packages is not writeable\n",
      "Requirement already satisfied: matplotlib in c:\\users\\dhanu\\appdata\\roaming\\python\\python39\\site-packages (3.5.2)\n",
      "Requirement already satisfied: packaging>=20.0 in c:\\users\\dhanu\\appdata\\roaming\\python\\python39\\site-packages (from matplotlib) (21.3)\n",
      "Requirement already satisfied: pyparsing>=2.2.1 in c:\\users\\dhanu\\appdata\\roaming\\python\\python39\\site-packages (from matplotlib) (3.0.7)\n",
      "Requirement already satisfied: kiwisolver>=1.0.1 in c:\\users\\dhanu\\appdata\\roaming\\python\\python39\\site-packages (from matplotlib) (1.4.2)\n",
      "Requirement already satisfied: pillow>=6.2.0 in c:\\users\\dhanu\\appdata\\roaming\\python\\python39\\site-packages (from matplotlib) (9.1.0)\n",
      "Requirement already satisfied: fonttools>=4.22.0 in c:\\users\\dhanu\\appdata\\roaming\\python\\python39\\site-packages (from matplotlib) (4.33.3)\n",
      "Requirement already satisfied: numpy>=1.17 in c:\\users\\dhanu\\appdata\\roaming\\python\\python39\\site-packages (from matplotlib) (1.22.3)\n",
      "Requirement already satisfied: python-dateutil>=2.7 in c:\\users\\dhanu\\appdata\\roaming\\python\\python39\\site-packages (from matplotlib) (2.8.2)\n",
      "Requirement already satisfied: cycler>=0.10 in c:\\users\\dhanu\\appdata\\roaming\\python\\python39\\site-packages (from matplotlib) (0.11.0)\n",
      "Requirement already satisfied: six>=1.5 in c:\\users\\dhanu\\appdata\\roaming\\python\\python39\\site-packages (from python-dateutil>=2.7->matplotlib) (1.16.0)\n",
      "Note: you may need to restart the kernel to use updated packages.\n"
     ]
    }
   ],
   "source": [
    "pip install matplotlib"
   ]
  },
  {
   "cell_type": "code",
   "execution_count": 2,
   "metadata": {
    "colab": {
     "base_uri": "https://localhost:8080/",
     "height": 17
    },
    "id": "BFkxxGnFm0ZM",
    "outputId": "5c79b5c7-455e-494f-8bb5-2223bf4e5839"
   },
   "outputs": [
    {
     "data": {
      "text/html": [
       "        <script type=\"text/javascript\">\n",
       "        window.PlotlyConfig = {MathJaxConfig: 'local'};\n",
       "        if (window.MathJax && window.MathJax.Hub && window.MathJax.Hub.Config) {window.MathJax.Hub.Config({SVG: {font: \"STIX-Web\"}});}\n",
       "        if (typeof require !== 'undefined') {\n",
       "        require.undef(\"plotly\");\n",
       "        requirejs.config({\n",
       "            paths: {\n",
       "                'plotly': ['https://cdn.plot.ly/plotly-2.12.1.min']\n",
       "            }\n",
       "        });\n",
       "        require(['plotly'], function(Plotly) {\n",
       "            window._Plotly = Plotly;\n",
       "        });\n",
       "        }\n",
       "        </script>\n",
       "        "
      ]
     },
     "metadata": {},
     "output_type": "display_data"
    }
   ],
   "source": [
    "import numpy as np\n",
    "import pandas as pd\n",
    "from sklearn.model_selection import train_test_split\n",
    "from sklearn.ensemble import RandomForestClassifier\n",
    "from sklearn.metrics import accuracy_score\n",
    "from sklearn import tree , metrics, preprocessing\n",
    "import os\n",
    "%matplotlib inline \n",
    "from IPython.display import Image\n",
    "import matplotlib as mlp\n",
    "import matplotlib.pyplot as plt\n",
    "#import sklearn\n",
    "import seaborn as sns\n",
    "import graphviz\n",
    "\n",
    "import matplotlib.patches as mpatches\n",
    "import seaborn as sns\n",
    "import numpy as np\n",
    "plt.style.use('fivethirtyeight')\n",
    "import plotly.offline as py\n",
    "py.init_notebook_mode(connected=True)\n",
    "import plotly.graph_objs as go\n",
    "import plotly.tools as tls\n",
    "from matplotlib import animation,rc\n",
    "import io\n",
    "import base64\n",
    "from IPython.display import HTML, display\n",
    "import warnings\n",
    "warnings.filterwarnings('ignore')\n",
    "import codecs\n",
    "from subprocess import check_output"
   ]
  },
  {
   "cell_type": "code",
   "execution_count": 3,
   "metadata": {
    "id": "qq0XudY64wWu"
   },
   "outputs": [],
   "source": [
    "\n",
    "df = pd.read_csv('BasketBallData1.csv', delimiter=',',encoding='ISO-8859-1')"
   ]
  },
  {
   "cell_type": "code",
   "execution_count": 4,
   "metadata": {
    "colab": {
     "base_uri": "https://localhost:8080/",
     "height": 206
    },
    "id": "bmap2PZbt5fi",
    "outputId": "f8d9b7d3-7316-467a-da6f-00937f1c6955"
   },
   "outputs": [
    {
     "data": {
      "text/html": [
       "<div>\n",
       "<style scoped>\n",
       "    .dataframe tbody tr th:only-of-type {\n",
       "        vertical-align: middle;\n",
       "    }\n",
       "\n",
       "    .dataframe tbody tr th {\n",
       "        vertical-align: top;\n",
       "    }\n",
       "\n",
       "    .dataframe thead th {\n",
       "        text-align: right;\n",
       "    }\n",
       "</style>\n",
       "<table border=\"1\" class=\"dataframe\">\n",
       "  <thead>\n",
       "    <tr style=\"text-align: right;\">\n",
       "      <th></th>\n",
       "      <th>Win</th>\n",
       "      <th>Month</th>\n",
       "      <th>Day</th>\n",
       "      <th>Year</th>\n",
       "      <th>Weekday</th>\n",
       "      <th>Time</th>\n",
       "      <th>Road_Team</th>\n",
       "      <th>Locale</th>\n",
       "      <th>Home_Team</th>\n",
       "      <th>Conf</th>\n",
       "      <th>Road_Team_score</th>\n",
       "      <th>Home_Team_score</th>\n",
       "      <th>Difference</th>\n",
       "      <th>OT</th>\n",
       "    </tr>\n",
       "  </thead>\n",
       "  <tbody>\n",
       "    <tr>\n",
       "      <th>0</th>\n",
       "      <td>1</td>\n",
       "      <td>Jan</td>\n",
       "      <td>3</td>\n",
       "      <td>2018</td>\n",
       "      <td>Wed</td>\n",
       "      <td>9:00 pm/est</td>\n",
       "      <td>Missouri</td>\n",
       "      <td>@</td>\n",
       "      <td>South Carolina</td>\n",
       "      <td>SEC</td>\n",
       "      <td>79</td>\n",
       "      <td>68</td>\n",
       "      <td>11</td>\n",
       "      <td>NaN</td>\n",
       "    </tr>\n",
       "    <tr>\n",
       "      <th>1</th>\n",
       "      <td>0</td>\n",
       "      <td>Feb</td>\n",
       "      <td>10</td>\n",
       "      <td>2016</td>\n",
       "      <td>Wed</td>\n",
       "      <td>7:00 pm/est</td>\n",
       "      <td>Providence</td>\n",
       "      <td>@</td>\n",
       "      <td>Marquette</td>\n",
       "      <td>Big East</td>\n",
       "      <td>91</td>\n",
       "      <td>96</td>\n",
       "      <td>-5</td>\n",
       "      <td>2OT</td>\n",
       "    </tr>\n",
       "    <tr>\n",
       "      <th>2</th>\n",
       "      <td>0</td>\n",
       "      <td>Jan</td>\n",
       "      <td>2</td>\n",
       "      <td>2016</td>\n",
       "      <td>Sat</td>\n",
       "      <td>2:00 pm/est</td>\n",
       "      <td>Tennessee</td>\n",
       "      <td>@</td>\n",
       "      <td>Auburn</td>\n",
       "      <td>SEC</td>\n",
       "      <td>77</td>\n",
       "      <td>83</td>\n",
       "      <td>-6</td>\n",
       "      <td>NaN</td>\n",
       "    </tr>\n",
       "    <tr>\n",
       "      <th>3</th>\n",
       "      <td>0</td>\n",
       "      <td>Feb</td>\n",
       "      <td>3</td>\n",
       "      <td>2016</td>\n",
       "      <td>Wed</td>\n",
       "      <td>7:00 pm/est</td>\n",
       "      <td>Arkansas</td>\n",
       "      <td>@</td>\n",
       "      <td>Florida</td>\n",
       "      <td>SEC</td>\n",
       "      <td>83</td>\n",
       "      <td>87</td>\n",
       "      <td>-4</td>\n",
       "      <td>NaN</td>\n",
       "    </tr>\n",
       "    <tr>\n",
       "      <th>4</th>\n",
       "      <td>1</td>\n",
       "      <td>Feb</td>\n",
       "      <td>18</td>\n",
       "      <td>2016</td>\n",
       "      <td>Thu</td>\n",
       "      <td>10:00 pm/est</td>\n",
       "      <td>Utah</td>\n",
       "      <td>@</td>\n",
       "      <td>UCLA</td>\n",
       "      <td>Pac-12</td>\n",
       "      <td>75</td>\n",
       "      <td>73</td>\n",
       "      <td>2</td>\n",
       "      <td>NaN</td>\n",
       "    </tr>\n",
       "  </tbody>\n",
       "</table>\n",
       "</div>"
      ],
      "text/plain": [
       "   Win Month  Day  Year Weekday          Time   Road_Team Locale  \\\n",
       "0    1   Jan    3  2018     Wed   9:00 pm/est    Missouri      @   \n",
       "1    0   Feb   10  2016     Wed   7:00 pm/est  Providence      @   \n",
       "2    0   Jan    2  2016     Sat   2:00 pm/est   Tennessee      @   \n",
       "3    0   Feb    3  2016     Wed   7:00 pm/est    Arkansas      @   \n",
       "4    1   Feb   18  2016     Thu  10:00 pm/est        Utah      @   \n",
       "\n",
       "        Home_Team      Conf  Road_Team_score  Home_Team_score  Difference   OT  \n",
       "0  South Carolina       SEC               79               68          11  NaN  \n",
       "1       Marquette  Big East               91               96          -5  2OT  \n",
       "2          Auburn       SEC               77               83          -6  NaN  \n",
       "3         Florida       SEC               83               87          -4  NaN  \n",
       "4            UCLA    Pac-12               75               73           2  NaN  "
      ]
     },
     "execution_count": 4,
     "metadata": {},
     "output_type": "execute_result"
    }
   ],
   "source": [
    "df.head()"
   ]
  },
  {
   "cell_type": "code",
   "execution_count": 5,
   "metadata": {
    "id": "Vzqri3mOuEhy"
   },
   "outputs": [],
   "source": [
    "df.dropna(inplace=True)"
   ]
  },
  {
   "cell_type": "code",
   "execution_count": 6,
   "metadata": {
    "colab": {
     "base_uri": "https://localhost:8080/",
     "height": 424
    },
    "id": "xWZOe8FPRG2e",
    "outputId": "0eb2fece-7b9a-4669-fbdc-f78e25d213aa"
   },
   "outputs": [
    {
     "data": {
      "text/html": [
       "<div>\n",
       "<style scoped>\n",
       "    .dataframe tbody tr th:only-of-type {\n",
       "        vertical-align: middle;\n",
       "    }\n",
       "\n",
       "    .dataframe tbody tr th {\n",
       "        vertical-align: top;\n",
       "    }\n",
       "\n",
       "    .dataframe thead th {\n",
       "        text-align: right;\n",
       "    }\n",
       "</style>\n",
       "<table border=\"1\" class=\"dataframe\">\n",
       "  <thead>\n",
       "    <tr style=\"text-align: right;\">\n",
       "      <th></th>\n",
       "      <th>Win</th>\n",
       "      <th>Month</th>\n",
       "      <th>Day</th>\n",
       "      <th>Year</th>\n",
       "      <th>Weekday</th>\n",
       "      <th>Time</th>\n",
       "      <th>Road_Team</th>\n",
       "      <th>Locale</th>\n",
       "      <th>Home_Team</th>\n",
       "      <th>Conf</th>\n",
       "      <th>Road_Team_score</th>\n",
       "      <th>Home_Team_score</th>\n",
       "      <th>Difference</th>\n",
       "      <th>OT</th>\n",
       "    </tr>\n",
       "  </thead>\n",
       "  <tbody>\n",
       "    <tr>\n",
       "      <th>1</th>\n",
       "      <td>0</td>\n",
       "      <td>Feb</td>\n",
       "      <td>10</td>\n",
       "      <td>2016</td>\n",
       "      <td>Wed</td>\n",
       "      <td>7:00 pm/est</td>\n",
       "      <td>Providence</td>\n",
       "      <td>@</td>\n",
       "      <td>Marquette</td>\n",
       "      <td>Big East</td>\n",
       "      <td>91</td>\n",
       "      <td>96</td>\n",
       "      <td>-5</td>\n",
       "      <td>2OT</td>\n",
       "    </tr>\n",
       "    <tr>\n",
       "      <th>19</th>\n",
       "      <td>1</td>\n",
       "      <td>Feb</td>\n",
       "      <td>20</td>\n",
       "      <td>2018</td>\n",
       "      <td>Tue</td>\n",
       "      <td>9:00 pm/est</td>\n",
       "      <td>Mississippi</td>\n",
       "      <td>@</td>\n",
       "      <td>Missouri</td>\n",
       "      <td>SEC</td>\n",
       "      <td>90</td>\n",
       "      <td>87</td>\n",
       "      <td>3</td>\n",
       "      <td>OT</td>\n",
       "    </tr>\n",
       "    <tr>\n",
       "      <th>20</th>\n",
       "      <td>1</td>\n",
       "      <td>Jan</td>\n",
       "      <td>1</td>\n",
       "      <td>2017</td>\n",
       "      <td>Sun</td>\n",
       "      <td>4:30 pm/est</td>\n",
       "      <td>Minnesota</td>\n",
       "      <td>@</td>\n",
       "      <td>Purdue (15)</td>\n",
       "      <td>Big Ten</td>\n",
       "      <td>91</td>\n",
       "      <td>82</td>\n",
       "      <td>9</td>\n",
       "      <td>OT</td>\n",
       "    </tr>\n",
       "    <tr>\n",
       "      <th>24</th>\n",
       "      <td>1</td>\n",
       "      <td>Jan</td>\n",
       "      <td>25</td>\n",
       "      <td>2018</td>\n",
       "      <td>Thu</td>\n",
       "      <td>9:30 pm/est</td>\n",
       "      <td>Utah</td>\n",
       "      <td>@</td>\n",
       "      <td>Arizona State (21)</td>\n",
       "      <td>Pac-12</td>\n",
       "      <td>80</td>\n",
       "      <td>77</td>\n",
       "      <td>3</td>\n",
       "      <td>OT</td>\n",
       "    </tr>\n",
       "    <tr>\n",
       "      <th>38</th>\n",
       "      <td>0</td>\n",
       "      <td>Feb</td>\n",
       "      <td>1</td>\n",
       "      <td>2015</td>\n",
       "      <td>Sun</td>\n",
       "      <td>1:00 pm/est</td>\n",
       "      <td>Michigan</td>\n",
       "      <td>@</td>\n",
       "      <td>Michigan State</td>\n",
       "      <td>Big Ten</td>\n",
       "      <td>66</td>\n",
       "      <td>76</td>\n",
       "      <td>-10</td>\n",
       "      <td>OT</td>\n",
       "    </tr>\n",
       "    <tr>\n",
       "      <th>...</th>\n",
       "      <td>...</td>\n",
       "      <td>...</td>\n",
       "      <td>...</td>\n",
       "      <td>...</td>\n",
       "      <td>...</td>\n",
       "      <td>...</td>\n",
       "      <td>...</td>\n",
       "      <td>...</td>\n",
       "      <td>...</td>\n",
       "      <td>...</td>\n",
       "      <td>...</td>\n",
       "      <td>...</td>\n",
       "      <td>...</td>\n",
       "      <td>...</td>\n",
       "    </tr>\n",
       "    <tr>\n",
       "      <th>1772</th>\n",
       "      <td>0</td>\n",
       "      <td>Feb</td>\n",
       "      <td>1</td>\n",
       "      <td>2017</td>\n",
       "      <td>Wed</td>\n",
       "      <td>6:30 pm/est</td>\n",
       "      <td>Penn State</td>\n",
       "      <td>@</td>\n",
       "      <td>Indiana</td>\n",
       "      <td>Big Ten</td>\n",
       "      <td>102</td>\n",
       "      <td>110</td>\n",
       "      <td>-8</td>\n",
       "      <td>3OT</td>\n",
       "    </tr>\n",
       "    <tr>\n",
       "      <th>1836</th>\n",
       "      <td>0</td>\n",
       "      <td>Jan</td>\n",
       "      <td>1</td>\n",
       "      <td>2016</td>\n",
       "      <td>Fri</td>\n",
       "      <td>9:00 pm/est</td>\n",
       "      <td>Utah</td>\n",
       "      <td>@</td>\n",
       "      <td>Stanford</td>\n",
       "      <td>Pac-12</td>\n",
       "      <td>68</td>\n",
       "      <td>70</td>\n",
       "      <td>-2</td>\n",
       "      <td>OT</td>\n",
       "    </tr>\n",
       "    <tr>\n",
       "      <th>1840</th>\n",
       "      <td>1</td>\n",
       "      <td>Dec</td>\n",
       "      <td>3</td>\n",
       "      <td>2017</td>\n",
       "      <td>Sun</td>\n",
       "      <td>8:00 pm/est</td>\n",
       "      <td>Maryland</td>\n",
       "      <td>@</td>\n",
       "      <td>Illinois</td>\n",
       "      <td>Big Ten</td>\n",
       "      <td>92</td>\n",
       "      <td>91</td>\n",
       "      <td>1</td>\n",
       "      <td>OT</td>\n",
       "    </tr>\n",
       "    <tr>\n",
       "      <th>1877</th>\n",
       "      <td>0</td>\n",
       "      <td>Jan</td>\n",
       "      <td>20</td>\n",
       "      <td>2018</td>\n",
       "      <td>Sat</td>\n",
       "      <td>2:00 pm/est</td>\n",
       "      <td>Oklahoma</td>\n",
       "      <td>@</td>\n",
       "      <td>Oklahoma State</td>\n",
       "      <td>Big 12</td>\n",
       "      <td>81</td>\n",
       "      <td>83</td>\n",
       "      <td>-2</td>\n",
       "      <td>OT</td>\n",
       "    </tr>\n",
       "    <tr>\n",
       "      <th>1881</th>\n",
       "      <td>1</td>\n",
       "      <td>Jan</td>\n",
       "      <td>7</td>\n",
       "      <td>2017</td>\n",
       "      <td>Sat</td>\n",
       "      <td>12:00 pm/est</td>\n",
       "      <td>Butler</td>\n",
       "      <td>@</td>\n",
       "      <td>Georgetown</td>\n",
       "      <td>Big East</td>\n",
       "      <td>85</td>\n",
       "      <td>76</td>\n",
       "      <td>9</td>\n",
       "      <td>OT</td>\n",
       "    </tr>\n",
       "  </tbody>\n",
       "</table>\n",
       "<p>121 rows × 14 columns</p>\n",
       "</div>"
      ],
      "text/plain": [
       "      Win Month  Day  Year Weekday          Time    Road_Team Locale  \\\n",
       "1       0   Feb   10  2016     Wed   7:00 pm/est   Providence      @   \n",
       "19      1   Feb   20  2018     Tue   9:00 pm/est  Mississippi      @   \n",
       "20      1   Jan    1  2017     Sun   4:30 pm/est    Minnesota      @   \n",
       "24      1   Jan   25  2018     Thu   9:30 pm/est         Utah      @   \n",
       "38      0   Feb    1  2015     Sun   1:00 pm/est     Michigan      @   \n",
       "...   ...   ...  ...   ...     ...           ...          ...    ...   \n",
       "1772    0   Feb    1  2017     Wed   6:30 pm/est   Penn State      @   \n",
       "1836    0   Jan    1  2016     Fri   9:00 pm/est         Utah      @   \n",
       "1840    1   Dec    3  2017     Sun   8:00 pm/est     Maryland      @   \n",
       "1877    0   Jan   20  2018     Sat   2:00 pm/est     Oklahoma      @   \n",
       "1881    1   Jan    7  2017     Sat  12:00 pm/est       Butler      @   \n",
       "\n",
       "               Home_Team      Conf  Road_Team_score  Home_Team_score  \\\n",
       "1              Marquette  Big East               91               96   \n",
       "19              Missouri       SEC               90               87   \n",
       "20           Purdue (15)   Big Ten               91               82   \n",
       "24    Arizona State (21)    Pac-12               80               77   \n",
       "38        Michigan State   Big Ten               66               76   \n",
       "...                  ...       ...              ...              ...   \n",
       "1772             Indiana   Big Ten              102              110   \n",
       "1836            Stanford    Pac-12               68               70   \n",
       "1840            Illinois   Big Ten               92               91   \n",
       "1877      Oklahoma State    Big 12               81               83   \n",
       "1881          Georgetown  Big East               85               76   \n",
       "\n",
       "      Difference   OT  \n",
       "1             -5  2OT  \n",
       "19             3   OT  \n",
       "20             9   OT  \n",
       "24             3   OT  \n",
       "38           -10   OT  \n",
       "...          ...  ...  \n",
       "1772          -8  3OT  \n",
       "1836          -2   OT  \n",
       "1840           1   OT  \n",
       "1877          -2   OT  \n",
       "1881           9   OT  \n",
       "\n",
       "[121 rows x 14 columns]"
      ]
     },
     "execution_count": 6,
     "metadata": {},
     "output_type": "execute_result"
    }
   ],
   "source": [
    "df"
   ]
  },
  {
   "cell_type": "code",
   "execution_count": 7,
   "metadata": {
    "colab": {
     "base_uri": "https://localhost:8080/",
     "height": 300
    },
    "id": "puG67jZ3uOY8",
    "outputId": "48bb85a3-5031-472e-edca-dbd6050df7fb"
   },
   "outputs": [
    {
     "data": {
      "text/html": [
       "<div>\n",
       "<style scoped>\n",
       "    .dataframe tbody tr th:only-of-type {\n",
       "        vertical-align: middle;\n",
       "    }\n",
       "\n",
       "    .dataframe tbody tr th {\n",
       "        vertical-align: top;\n",
       "    }\n",
       "\n",
       "    .dataframe thead th {\n",
       "        text-align: right;\n",
       "    }\n",
       "</style>\n",
       "<table border=\"1\" class=\"dataframe\">\n",
       "  <thead>\n",
       "    <tr style=\"text-align: right;\">\n",
       "      <th></th>\n",
       "      <th>Win</th>\n",
       "      <th>Day</th>\n",
       "      <th>Year</th>\n",
       "      <th>Road_Team_score</th>\n",
       "      <th>Home_Team_score</th>\n",
       "      <th>Difference</th>\n",
       "    </tr>\n",
       "  </thead>\n",
       "  <tbody>\n",
       "    <tr>\n",
       "      <th>count</th>\n",
       "      <td>121.000000</td>\n",
       "      <td>121.000000</td>\n",
       "      <td>121.000000</td>\n",
       "      <td>121.000000</td>\n",
       "      <td>121.000000</td>\n",
       "      <td>121.000000</td>\n",
       "    </tr>\n",
       "    <tr>\n",
       "      <th>mean</th>\n",
       "      <td>0.421488</td>\n",
       "      <td>14.975207</td>\n",
       "      <td>2016.495868</td>\n",
       "      <td>79.942149</td>\n",
       "      <td>81.132231</td>\n",
       "      <td>-1.190083</td>\n",
       "    </tr>\n",
       "    <tr>\n",
       "      <th>std</th>\n",
       "      <td>0.495851</td>\n",
       "      <td>9.547655</td>\n",
       "      <td>1.205017</td>\n",
       "      <td>11.881567</td>\n",
       "      <td>11.866579</td>\n",
       "      <td>5.296719</td>\n",
       "    </tr>\n",
       "    <tr>\n",
       "      <th>min</th>\n",
       "      <td>0.000000</td>\n",
       "      <td>1.000000</td>\n",
       "      <td>2014.000000</td>\n",
       "      <td>54.000000</td>\n",
       "      <td>48.000000</td>\n",
       "      <td>-12.000000</td>\n",
       "    </tr>\n",
       "    <tr>\n",
       "      <th>25%</th>\n",
       "      <td>0.000000</td>\n",
       "      <td>6.000000</td>\n",
       "      <td>2015.000000</td>\n",
       "      <td>70.000000</td>\n",
       "      <td>73.000000</td>\n",
       "      <td>-5.000000</td>\n",
       "    </tr>\n",
       "    <tr>\n",
       "      <th>50%</th>\n",
       "      <td>0.000000</td>\n",
       "      <td>14.000000</td>\n",
       "      <td>2017.000000</td>\n",
       "      <td>81.000000</td>\n",
       "      <td>82.000000</td>\n",
       "      <td>-2.000000</td>\n",
       "    </tr>\n",
       "    <tr>\n",
       "      <th>75%</th>\n",
       "      <td>1.000000</td>\n",
       "      <td>24.000000</td>\n",
       "      <td>2018.000000</td>\n",
       "      <td>90.000000</td>\n",
       "      <td>89.000000</td>\n",
       "      <td>3.000000</td>\n",
       "    </tr>\n",
       "    <tr>\n",
       "      <th>max</th>\n",
       "      <td>1.000000</td>\n",
       "      <td>31.000000</td>\n",
       "      <td>2018.000000</td>\n",
       "      <td>110.000000</td>\n",
       "      <td>110.000000</td>\n",
       "      <td>11.000000</td>\n",
       "    </tr>\n",
       "  </tbody>\n",
       "</table>\n",
       "</div>"
      ],
      "text/plain": [
       "              Win         Day         Year  Road_Team_score  Home_Team_score  \\\n",
       "count  121.000000  121.000000   121.000000       121.000000       121.000000   \n",
       "mean     0.421488   14.975207  2016.495868        79.942149        81.132231   \n",
       "std      0.495851    9.547655     1.205017        11.881567        11.866579   \n",
       "min      0.000000    1.000000  2014.000000        54.000000        48.000000   \n",
       "25%      0.000000    6.000000  2015.000000        70.000000        73.000000   \n",
       "50%      0.000000   14.000000  2017.000000        81.000000        82.000000   \n",
       "75%      1.000000   24.000000  2018.000000        90.000000        89.000000   \n",
       "max      1.000000   31.000000  2018.000000       110.000000       110.000000   \n",
       "\n",
       "       Difference  \n",
       "count  121.000000  \n",
       "mean    -1.190083  \n",
       "std      5.296719  \n",
       "min    -12.000000  \n",
       "25%     -5.000000  \n",
       "50%     -2.000000  \n",
       "75%      3.000000  \n",
       "max     11.000000  "
      ]
     },
     "execution_count": 7,
     "metadata": {},
     "output_type": "execute_result"
    }
   ],
   "source": [
    "df.describe()"
   ]
  },
  {
   "cell_type": "code",
   "execution_count": 8,
   "metadata": {
    "colab": {
     "base_uri": "https://localhost:8080/",
     "height": 206
    },
    "id": "07Q3v-yKuTON",
    "outputId": "a27b405b-8e0e-4926-d54a-2389a10f5009"
   },
   "outputs": [
    {
     "data": {
      "text/html": [
       "<div>\n",
       "<style scoped>\n",
       "    .dataframe tbody tr th:only-of-type {\n",
       "        vertical-align: middle;\n",
       "    }\n",
       "\n",
       "    .dataframe tbody tr th {\n",
       "        vertical-align: top;\n",
       "    }\n",
       "\n",
       "    .dataframe thead th {\n",
       "        text-align: right;\n",
       "    }\n",
       "</style>\n",
       "<table border=\"1\" class=\"dataframe\">\n",
       "  <thead>\n",
       "    <tr style=\"text-align: right;\">\n",
       "      <th></th>\n",
       "      <th>Win</th>\n",
       "      <th>Month</th>\n",
       "      <th>Day</th>\n",
       "      <th>Year</th>\n",
       "      <th>Weekday</th>\n",
       "      <th>Time</th>\n",
       "      <th>Road_Team</th>\n",
       "      <th>Locale</th>\n",
       "      <th>Home_Team</th>\n",
       "      <th>Conf</th>\n",
       "      <th>Road_Team_score</th>\n",
       "      <th>Home_Team_score</th>\n",
       "      <th>Difference</th>\n",
       "      <th>OT</th>\n",
       "    </tr>\n",
       "  </thead>\n",
       "  <tbody>\n",
       "    <tr>\n",
       "      <th>1</th>\n",
       "      <td>0</td>\n",
       "      <td>Feb</td>\n",
       "      <td>10</td>\n",
       "      <td>2016</td>\n",
       "      <td>Wed</td>\n",
       "      <td>7:00 pm/est</td>\n",
       "      <td>Providence</td>\n",
       "      <td>@</td>\n",
       "      <td>Marquette</td>\n",
       "      <td>Big East</td>\n",
       "      <td>91</td>\n",
       "      <td>96</td>\n",
       "      <td>-5</td>\n",
       "      <td>2OT</td>\n",
       "    </tr>\n",
       "    <tr>\n",
       "      <th>19</th>\n",
       "      <td>1</td>\n",
       "      <td>Feb</td>\n",
       "      <td>20</td>\n",
       "      <td>2018</td>\n",
       "      <td>Tue</td>\n",
       "      <td>9:00 pm/est</td>\n",
       "      <td>Mississippi</td>\n",
       "      <td>@</td>\n",
       "      <td>Missouri</td>\n",
       "      <td>SEC</td>\n",
       "      <td>90</td>\n",
       "      <td>87</td>\n",
       "      <td>3</td>\n",
       "      <td>OT</td>\n",
       "    </tr>\n",
       "    <tr>\n",
       "      <th>20</th>\n",
       "      <td>1</td>\n",
       "      <td>Jan</td>\n",
       "      <td>1</td>\n",
       "      <td>2017</td>\n",
       "      <td>Sun</td>\n",
       "      <td>4:30 pm/est</td>\n",
       "      <td>Minnesota</td>\n",
       "      <td>@</td>\n",
       "      <td>Purdue (15)</td>\n",
       "      <td>Big Ten</td>\n",
       "      <td>91</td>\n",
       "      <td>82</td>\n",
       "      <td>9</td>\n",
       "      <td>OT</td>\n",
       "    </tr>\n",
       "    <tr>\n",
       "      <th>24</th>\n",
       "      <td>1</td>\n",
       "      <td>Jan</td>\n",
       "      <td>25</td>\n",
       "      <td>2018</td>\n",
       "      <td>Thu</td>\n",
       "      <td>9:30 pm/est</td>\n",
       "      <td>Utah</td>\n",
       "      <td>@</td>\n",
       "      <td>Arizona State (21)</td>\n",
       "      <td>Pac-12</td>\n",
       "      <td>80</td>\n",
       "      <td>77</td>\n",
       "      <td>3</td>\n",
       "      <td>OT</td>\n",
       "    </tr>\n",
       "    <tr>\n",
       "      <th>38</th>\n",
       "      <td>0</td>\n",
       "      <td>Feb</td>\n",
       "      <td>1</td>\n",
       "      <td>2015</td>\n",
       "      <td>Sun</td>\n",
       "      <td>1:00 pm/est</td>\n",
       "      <td>Michigan</td>\n",
       "      <td>@</td>\n",
       "      <td>Michigan State</td>\n",
       "      <td>Big Ten</td>\n",
       "      <td>66</td>\n",
       "      <td>76</td>\n",
       "      <td>-10</td>\n",
       "      <td>OT</td>\n",
       "    </tr>\n",
       "  </tbody>\n",
       "</table>\n",
       "</div>"
      ],
      "text/plain": [
       "    Win Month  Day  Year Weekday         Time    Road_Team Locale  \\\n",
       "1     0   Feb   10  2016     Wed  7:00 pm/est   Providence      @   \n",
       "19    1   Feb   20  2018     Tue  9:00 pm/est  Mississippi      @   \n",
       "20    1   Jan    1  2017     Sun  4:30 pm/est    Minnesota      @   \n",
       "24    1   Jan   25  2018     Thu  9:30 pm/est         Utah      @   \n",
       "38    0   Feb    1  2015     Sun  1:00 pm/est     Michigan      @   \n",
       "\n",
       "             Home_Team      Conf  Road_Team_score  Home_Team_score  \\\n",
       "1            Marquette  Big East               91               96   \n",
       "19            Missouri       SEC               90               87   \n",
       "20         Purdue (15)   Big Ten               91               82   \n",
       "24  Arizona State (21)    Pac-12               80               77   \n",
       "38      Michigan State   Big Ten               66               76   \n",
       "\n",
       "    Difference   OT  \n",
       "1           -5  2OT  \n",
       "19           3   OT  \n",
       "20           9   OT  \n",
       "24           3   OT  \n",
       "38         -10   OT  "
      ]
     },
     "execution_count": 8,
     "metadata": {},
     "output_type": "execute_result"
    }
   ],
   "source": [
    "df.head()"
   ]
  },
  {
   "cell_type": "code",
   "execution_count": 9,
   "metadata": {
    "colab": {
     "base_uri": "https://localhost:8080/",
     "height": 490
    },
    "id": "Xb7OilSS858s",
    "outputId": "d0decb39-7e4c-4939-dd2e-a6b2f40ff8f4"
   },
   "outputs": [
    {
     "data": {
      "text/plain": [
       "Georgetown         5\n",
       "Marquette          4\n",
       "Texas              4\n",
       "Texas Tech         4\n",
       "Boston College     3\n",
       "                  ..\n",
       "Louisville (10)    1\n",
       "Virginia (2)       1\n",
       "Baylor (25)        1\n",
       "Kentucky (1)       1\n",
       "Illinois           1\n",
       "Name: Home_Team, Length: 72, dtype: int64"
      ]
     },
     "execution_count": 9,
     "metadata": {},
     "output_type": "execute_result"
    },
    {
     "data": {
      "image/png": "[encoded data removed]",
      "text/plain": [
       "<Figure size 432x288 with 1 Axes>"
      ]
     },
     "metadata": {},
     "output_type": "display_data"
    }
   ],
   "source": [
    "y = df.Home_Team.value_counts()\n",
    "sns.barplot(y.index, y.values)\n",
    "y"
   ]
  },
  {
   "cell_type": "code",
   "execution_count": 10,
   "metadata": {
    "colab": {
     "base_uri": "https://localhost:8080/"
    },
    "id": "SaoGrmZXxQ2Z",
    "outputId": "764a63c5-8a04-41b2-b99d-a1a96b7739c3"
   },
   "outputs": [
    {
     "data": {
      "text/plain": [
       "Win                 int64\n",
       "Month              object\n",
       "Day                 int64\n",
       "Year                int64\n",
       "Weekday            object\n",
       "Time               object\n",
       "Road_Team          object\n",
       "Locale             object\n",
       "Home_Team          object\n",
       "Conf               object\n",
       "Road_Team_score     int64\n",
       "Home_Team_score     int64\n",
       "Difference          int64\n",
       "OT                 object\n",
       "dtype: object"
      ]
     },
     "execution_count": 10,
     "metadata": {},
     "output_type": "execute_result"
    }
   ],
   "source": [
    "df.dtypes"
   ]
  },
  {
   "cell_type": "code",
   "execution_count": 11,
   "metadata": {
    "id": "elpLDXpjxmp6"
   },
   "outputs": [],
   "source": [
    "from sklearn import tree , metrics, preprocessing\n",
    "label_encoder = preprocessing.LabelEncoder()"
   ]
  },
  {
   "cell_type": "code",
   "execution_count": 12,
   "metadata": {
    "id": "Qj2L48NruBu2"
   },
   "outputs": [],
   "source": [
    "  df['Month'] = label_encoder.fit_transform(df['Month'])"
   ]
  },
  {
   "cell_type": "code",
   "execution_count": 13,
   "metadata": {
    "id": "6aPdNpGGxhL9"
   },
   "outputs": [],
   "source": [
    "df['Weekday'] = label_encoder.fit_transform(df['Weekday'])"
   ]
  },
  {
   "cell_type": "code",
   "execution_count": 14,
   "metadata": {
    "id": "eesW92IZyD5Y"
   },
   "outputs": [],
   "source": [
    "df['Road_Team'] = label_encoder.fit_transform(df['Road_Team'])"
   ]
  },
  {
   "cell_type": "code",
   "execution_count": 15,
   "metadata": {
    "id": "MXanJrGvztIg"
   },
   "outputs": [],
   "source": [
    "df['Home_Team'] = label_encoder.fit_transform(df['Home_Team'])"
   ]
  },
  {
   "cell_type": "code",
   "execution_count": 16,
   "metadata": {
    "id": "plB0gkJZz3d5"
   },
   "outputs": [],
   "source": [
    "df['Conf'] = label_encoder.fit_transform(df['Conf'])\n",
    "df['OT'] = label_encoder.fit_transform(df['OT'])"
   ]
  },
  {
   "cell_type": "code",
   "execution_count": 17,
   "metadata": {
    "colab": {
     "base_uri": "https://localhost:8080/",
     "height": 424
    },
    "id": "1cxPiH0p0EWU",
    "outputId": "e3256567-ee11-40a2-e92a-13abf5fbb8fa"
   },
   "outputs": [
    {
     "data": {
      "text/html": [
       "<div>\n",
       "<style scoped>\n",
       "    .dataframe tbody tr th:only-of-type {\n",
       "        vertical-align: middle;\n",
       "    }\n",
       "\n",
       "    .dataframe tbody tr th {\n",
       "        vertical-align: top;\n",
       "    }\n",
       "\n",
       "    .dataframe thead th {\n",
       "        text-align: right;\n",
       "    }\n",
       "</style>\n",
       "<table border=\"1\" class=\"dataframe\">\n",
       "  <thead>\n",
       "    <tr style=\"text-align: right;\">\n",
       "      <th></th>\n",
       "      <th>Win</th>\n",
       "      <th>Month</th>\n",
       "      <th>Day</th>\n",
       "      <th>Year</th>\n",
       "      <th>Weekday</th>\n",
       "      <th>Time</th>\n",
       "      <th>Road_Team</th>\n",
       "      <th>Locale</th>\n",
       "      <th>Home_Team</th>\n",
       "      <th>Conf</th>\n",
       "      <th>Road_Team_score</th>\n",
       "      <th>Home_Team_score</th>\n",
       "      <th>Difference</th>\n",
       "      <th>OT</th>\n",
       "    </tr>\n",
       "  </thead>\n",
       "  <tbody>\n",
       "    <tr>\n",
       "      <th>1</th>\n",
       "      <td>0</td>\n",
       "      <td>1</td>\n",
       "      <td>10</td>\n",
       "      <td>2016</td>\n",
       "      <td>6</td>\n",
       "      <td>7:00 pm/est</td>\n",
       "      <td>36</td>\n",
       "      <td>@</td>\n",
       "      <td>28</td>\n",
       "      <td>2</td>\n",
       "      <td>91</td>\n",
       "      <td>96</td>\n",
       "      <td>-5</td>\n",
       "      <td>0</td>\n",
       "    </tr>\n",
       "    <tr>\n",
       "      <th>19</th>\n",
       "      <td>1</td>\n",
       "      <td>1</td>\n",
       "      <td>20</td>\n",
       "      <td>2018</td>\n",
       "      <td>5</td>\n",
       "      <td>9:00 pm/est</td>\n",
       "      <td>25</td>\n",
       "      <td>@</td>\n",
       "      <td>34</td>\n",
       "      <td>5</td>\n",
       "      <td>90</td>\n",
       "      <td>87</td>\n",
       "      <td>3</td>\n",
       "      <td>3</td>\n",
       "    </tr>\n",
       "    <tr>\n",
       "      <th>20</th>\n",
       "      <td>1</td>\n",
       "      <td>2</td>\n",
       "      <td>1</td>\n",
       "      <td>2017</td>\n",
       "      <td>3</td>\n",
       "      <td>4:30 pm/est</td>\n",
       "      <td>24</td>\n",
       "      <td>@</td>\n",
       "      <td>45</td>\n",
       "      <td>3</td>\n",
       "      <td>91</td>\n",
       "      <td>82</td>\n",
       "      <td>9</td>\n",
       "      <td>3</td>\n",
       "    </tr>\n",
       "    <tr>\n",
       "      <th>24</th>\n",
       "      <td>1</td>\n",
       "      <td>2</td>\n",
       "      <td>25</td>\n",
       "      <td>2018</td>\n",
       "      <td>4</td>\n",
       "      <td>9:30 pm/est</td>\n",
       "      <td>48</td>\n",
       "      <td>@</td>\n",
       "      <td>2</td>\n",
       "      <td>4</td>\n",
       "      <td>80</td>\n",
       "      <td>77</td>\n",
       "      <td>3</td>\n",
       "      <td>3</td>\n",
       "    </tr>\n",
       "    <tr>\n",
       "      <th>38</th>\n",
       "      <td>0</td>\n",
       "      <td>1</td>\n",
       "      <td>1</td>\n",
       "      <td>2015</td>\n",
       "      <td>3</td>\n",
       "      <td>1:00 pm/est</td>\n",
       "      <td>22</td>\n",
       "      <td>@</td>\n",
       "      <td>30</td>\n",
       "      <td>3</td>\n",
       "      <td>66</td>\n",
       "      <td>76</td>\n",
       "      <td>-10</td>\n",
       "      <td>3</td>\n",
       "    </tr>\n",
       "    <tr>\n",
       "      <th>...</th>\n",
       "      <td>...</td>\n",
       "      <td>...</td>\n",
       "      <td>...</td>\n",
       "      <td>...</td>\n",
       "      <td>...</td>\n",
       "      <td>...</td>\n",
       "      <td>...</td>\n",
       "      <td>...</td>\n",
       "      <td>...</td>\n",
       "      <td>...</td>\n",
       "      <td>...</td>\n",
       "      <td>...</td>\n",
       "      <td>...</td>\n",
       "      <td>...</td>\n",
       "    </tr>\n",
       "    <tr>\n",
       "      <th>1772</th>\n",
       "      <td>0</td>\n",
       "      <td>1</td>\n",
       "      <td>1</td>\n",
       "      <td>2017</td>\n",
       "      <td>6</td>\n",
       "      <td>6:30 pm/est</td>\n",
       "      <td>35</td>\n",
       "      <td>@</td>\n",
       "      <td>21</td>\n",
       "      <td>3</td>\n",
       "      <td>102</td>\n",
       "      <td>110</td>\n",
       "      <td>-8</td>\n",
       "      <td>1</td>\n",
       "    </tr>\n",
       "    <tr>\n",
       "      <th>1836</th>\n",
       "      <td>0</td>\n",
       "      <td>2</td>\n",
       "      <td>1</td>\n",
       "      <td>2016</td>\n",
       "      <td>0</td>\n",
       "      <td>9:00 pm/est</td>\n",
       "      <td>48</td>\n",
       "      <td>@</td>\n",
       "      <td>52</td>\n",
       "      <td>4</td>\n",
       "      <td>68</td>\n",
       "      <td>70</td>\n",
       "      <td>-2</td>\n",
       "      <td>3</td>\n",
       "    </tr>\n",
       "    <tr>\n",
       "      <th>1840</th>\n",
       "      <td>1</td>\n",
       "      <td>0</td>\n",
       "      <td>3</td>\n",
       "      <td>2017</td>\n",
       "      <td>3</td>\n",
       "      <td>8:00 pm/est</td>\n",
       "      <td>20</td>\n",
       "      <td>@</td>\n",
       "      <td>20</td>\n",
       "      <td>3</td>\n",
       "      <td>92</td>\n",
       "      <td>91</td>\n",
       "      <td>1</td>\n",
       "      <td>3</td>\n",
       "    </tr>\n",
       "    <tr>\n",
       "      <th>1877</th>\n",
       "      <td>0</td>\n",
       "      <td>2</td>\n",
       "      <td>20</td>\n",
       "      <td>2018</td>\n",
       "      <td>2</td>\n",
       "      <td>2:00 pm/est</td>\n",
       "      <td>32</td>\n",
       "      <td>@</td>\n",
       "      <td>39</td>\n",
       "      <td>1</td>\n",
       "      <td>81</td>\n",
       "      <td>83</td>\n",
       "      <td>-2</td>\n",
       "      <td>3</td>\n",
       "    </tr>\n",
       "    <tr>\n",
       "      <th>1881</th>\n",
       "      <td>1</td>\n",
       "      <td>2</td>\n",
       "      <td>7</td>\n",
       "      <td>2017</td>\n",
       "      <td>2</td>\n",
       "      <td>12:00 pm/est</td>\n",
       "      <td>5</td>\n",
       "      <td>@</td>\n",
       "      <td>17</td>\n",
       "      <td>2</td>\n",
       "      <td>85</td>\n",
       "      <td>76</td>\n",
       "      <td>9</td>\n",
       "      <td>3</td>\n",
       "    </tr>\n",
       "  </tbody>\n",
       "</table>\n",
       "<p>121 rows × 14 columns</p>\n",
       "</div>"
      ],
      "text/plain": [
       "      Win  Month  Day  Year  Weekday          Time  Road_Team Locale  \\\n",
       "1       0      1   10  2016        6   7:00 pm/est         36      @   \n",
       "19      1      1   20  2018        5   9:00 pm/est         25      @   \n",
       "20      1      2    1  2017        3   4:30 pm/est         24      @   \n",
       "24      1      2   25  2018        4   9:30 pm/est         48      @   \n",
       "38      0      1    1  2015        3   1:00 pm/est         22      @   \n",
       "...   ...    ...  ...   ...      ...           ...        ...    ...   \n",
       "1772    0      1    1  2017        6   6:30 pm/est         35      @   \n",
       "1836    0      2    1  2016        0   9:00 pm/est         48      @   \n",
       "1840    1      0    3  2017        3   8:00 pm/est         20      @   \n",
       "1877    0      2   20  2018        2   2:00 pm/est         32      @   \n",
       "1881    1      2    7  2017        2  12:00 pm/est          5      @   \n",
       "\n",
       "      Home_Team  Conf  Road_Team_score  Home_Team_score  Difference  OT  \n",
       "1            28     2               91               96          -5   0  \n",
       "19           34     5               90               87           3   3  \n",
       "20           45     3               91               82           9   3  \n",
       "24            2     4               80               77           3   3  \n",
       "38           30     3               66               76         -10   3  \n",
       "...         ...   ...              ...              ...         ...  ..  \n",
       "1772         21     3              102              110          -8   1  \n",
       "1836         52     4               68               70          -2   3  \n",
       "1840         20     3               92               91           1   3  \n",
       "1877         39     1               81               83          -2   3  \n",
       "1881         17     2               85               76           9   3  \n",
       "\n",
       "[121 rows x 14 columns]"
      ]
     },
     "execution_count": 17,
     "metadata": {},
     "output_type": "execute_result"
    }
   ],
   "source": [
    "df"
   ]
  },
  {
   "cell_type": "code",
   "execution_count": 18,
   "metadata": {
    "id": "K6GRQBeJ1kCQ"
   },
   "outputs": [],
   "source": [
    "df.drop(['Time'], axis=1, inplace=True) \n",
    "df.drop(['Locale'], axis=1, inplace=True) \n"
   ]
  },
  {
   "cell_type": "code",
   "execution_count": 19,
   "metadata": {
    "id": "7Cci5rXnl0o8"
   },
   "outputs": [],
   "source": [
    "df.drop(['Road_Team_score'], axis=1, inplace=True) \n",
    "df.drop(['Home_Team_score'], axis=1, inplace=True) \n",
    "df.drop(['Difference'], axis=1, inplace=True) \n"
   ]
  },
  {
   "cell_type": "code",
   "execution_count": 20,
   "metadata": {
    "colab": {
     "base_uri": "https://localhost:8080/"
    },
    "id": "4j9KlWtn3USJ",
    "outputId": "e847c57b-8bdf-42e6-b503-d0a173d62e7c"
   },
   "outputs": [
    {
     "data": {
      "text/plain": [
       "Win          int64\n",
       "Month        int32\n",
       "Day          int64\n",
       "Year         int64\n",
       "Weekday      int32\n",
       "Road_Team    int32\n",
       "Home_Team    int32\n",
       "Conf         int32\n",
       "OT           int32\n",
       "dtype: object"
      ]
     },
     "execution_count": 20,
     "metadata": {},
     "output_type": "execute_result"
    }
   ],
   "source": [
    "df.dtypes"
   ]
  },
  {
   "cell_type": "code",
   "execution_count": 21,
   "metadata": {
    "colab": {
     "base_uri": "https://localhost:8080/",
     "height": 424
    },
    "id": "a_7Ytd5ZlSfG",
    "outputId": "ec775668-e785-4afa-c3f8-10e512b95dec"
   },
   "outputs": [
    {
     "data": {
      "text/html": [
       "<div>\n",
       "<style scoped>\n",
       "    .dataframe tbody tr th:only-of-type {\n",
       "        vertical-align: middle;\n",
       "    }\n",
       "\n",
       "    .dataframe tbody tr th {\n",
       "        vertical-align: top;\n",
       "    }\n",
       "\n",
       "    .dataframe thead th {\n",
       "        text-align: right;\n",
       "    }\n",
       "</style>\n",
       "<table border=\"1\" class=\"dataframe\">\n",
       "  <thead>\n",
       "    <tr style=\"text-align: right;\">\n",
       "      <th></th>\n",
       "      <th>Month</th>\n",
       "      <th>Day</th>\n",
       "      <th>Year</th>\n",
       "      <th>Weekday</th>\n",
       "      <th>Road_Team</th>\n",
       "      <th>Home_Team</th>\n",
       "      <th>Conf</th>\n",
       "      <th>OT</th>\n",
       "    </tr>\n",
       "  </thead>\n",
       "  <tbody>\n",
       "    <tr>\n",
       "      <th>1</th>\n",
       "      <td>1</td>\n",
       "      <td>10</td>\n",
       "      <td>2016</td>\n",
       "      <td>6</td>\n",
       "      <td>36</td>\n",
       "      <td>28</td>\n",
       "      <td>2</td>\n",
       "      <td>0</td>\n",
       "    </tr>\n",
       "    <tr>\n",
       "      <th>19</th>\n",
       "      <td>1</td>\n",
       "      <td>20</td>\n",
       "      <td>2018</td>\n",
       "      <td>5</td>\n",
       "      <td>25</td>\n",
       "      <td>34</td>\n",
       "      <td>5</td>\n",
       "      <td>3</td>\n",
       "    </tr>\n",
       "    <tr>\n",
       "      <th>20</th>\n",
       "      <td>2</td>\n",
       "      <td>1</td>\n",
       "      <td>2017</td>\n",
       "      <td>3</td>\n",
       "      <td>24</td>\n",
       "      <td>45</td>\n",
       "      <td>3</td>\n",
       "      <td>3</td>\n",
       "    </tr>\n",
       "    <tr>\n",
       "      <th>24</th>\n",
       "      <td>2</td>\n",
       "      <td>25</td>\n",
       "      <td>2018</td>\n",
       "      <td>4</td>\n",
       "      <td>48</td>\n",
       "      <td>2</td>\n",
       "      <td>4</td>\n",
       "      <td>3</td>\n",
       "    </tr>\n",
       "    <tr>\n",
       "      <th>38</th>\n",
       "      <td>1</td>\n",
       "      <td>1</td>\n",
       "      <td>2015</td>\n",
       "      <td>3</td>\n",
       "      <td>22</td>\n",
       "      <td>30</td>\n",
       "      <td>3</td>\n",
       "      <td>3</td>\n",
       "    </tr>\n",
       "    <tr>\n",
       "      <th>...</th>\n",
       "      <td>...</td>\n",
       "      <td>...</td>\n",
       "      <td>...</td>\n",
       "      <td>...</td>\n",
       "      <td>...</td>\n",
       "      <td>...</td>\n",
       "      <td>...</td>\n",
       "      <td>...</td>\n",
       "    </tr>\n",
       "    <tr>\n",
       "      <th>1772</th>\n",
       "      <td>1</td>\n",
       "      <td>1</td>\n",
       "      <td>2017</td>\n",
       "      <td>6</td>\n",
       "      <td>35</td>\n",
       "      <td>21</td>\n",
       "      <td>3</td>\n",
       "      <td>1</td>\n",
       "    </tr>\n",
       "    <tr>\n",
       "      <th>1836</th>\n",
       "      <td>2</td>\n",
       "      <td>1</td>\n",
       "      <td>2016</td>\n",
       "      <td>0</td>\n",
       "      <td>48</td>\n",
       "      <td>52</td>\n",
       "      <td>4</td>\n",
       "      <td>3</td>\n",
       "    </tr>\n",
       "    <tr>\n",
       "      <th>1840</th>\n",
       "      <td>0</td>\n",
       "      <td>3</td>\n",
       "      <td>2017</td>\n",
       "      <td>3</td>\n",
       "      <td>20</td>\n",
       "      <td>20</td>\n",
       "      <td>3</td>\n",
       "      <td>3</td>\n",
       "    </tr>\n",
       "    <tr>\n",
       "      <th>1877</th>\n",
       "      <td>2</td>\n",
       "      <td>20</td>\n",
       "      <td>2018</td>\n",
       "      <td>2</td>\n",
       "      <td>32</td>\n",
       "      <td>39</td>\n",
       "      <td>1</td>\n",
       "      <td>3</td>\n",
       "    </tr>\n",
       "    <tr>\n",
       "      <th>1881</th>\n",
       "      <td>2</td>\n",
       "      <td>7</td>\n",
       "      <td>2017</td>\n",
       "      <td>2</td>\n",
       "      <td>5</td>\n",
       "      <td>17</td>\n",
       "      <td>2</td>\n",
       "      <td>3</td>\n",
       "    </tr>\n",
       "  </tbody>\n",
       "</table>\n",
       "<p>121 rows × 8 columns</p>\n",
       "</div>"
      ],
      "text/plain": [
       "      Month  Day  Year  Weekday  Road_Team  Home_Team  Conf  OT\n",
       "1         1   10  2016        6         36         28     2   0\n",
       "19        1   20  2018        5         25         34     5   3\n",
       "20        2    1  2017        3         24         45     3   3\n",
       "24        2   25  2018        4         48          2     4   3\n",
       "38        1    1  2015        3         22         30     3   3\n",
       "...     ...  ...   ...      ...        ...        ...   ...  ..\n",
       "1772      1    1  2017        6         35         21     3   1\n",
       "1836      2    1  2016        0         48         52     4   3\n",
       "1840      0    3  2017        3         20         20     3   3\n",
       "1877      2   20  2018        2         32         39     1   3\n",
       "1881      2    7  2017        2          5         17     2   3\n",
       "\n",
       "[121 rows x 8 columns]"
      ]
     },
     "execution_count": 21,
     "metadata": {},
     "output_type": "execute_result"
    }
   ],
   "source": [
    "X = df.drop(['Win'], axis=1, inplace=False)  \n",
    "X"
   ]
  },
  {
   "cell_type": "code",
   "execution_count": 22,
   "metadata": {
    "colab": {
     "base_uri": "https://localhost:8080/"
    },
    "id": "PRzJMfxfmRQn",
    "outputId": "01b8f78a-4676-41ba-fa6e-7b754af21cdb"
   },
   "outputs": [
    {
     "data": {
      "text/plain": [
       "1       0\n",
       "19      1\n",
       "20      1\n",
       "24      1\n",
       "38      0\n",
       "       ..\n",
       "1772    0\n",
       "1836    0\n",
       "1840    1\n",
       "1877    0\n",
       "1881    1\n",
       "Name: Win, Length: 121, dtype: int64"
      ]
     },
     "execution_count": 22,
     "metadata": {},
     "output_type": "execute_result"
    }
   ],
   "source": [
    "Y=df['Win']\n",
    "Y"
   ]
  },
  {
   "cell_type": "code",
   "execution_count": 23,
   "metadata": {
    "id": "6aDIkAu3mhMX"
   },
   "outputs": [],
   "source": [
    "from sklearn.model_selection import train_test_split"
   ]
  },
  {
   "cell_type": "code",
   "execution_count": 24,
   "metadata": {
    "id": "_oOZk9f_9p_T"
   },
   "outputs": [],
   "source": [
    "X_train_RF, X_test_RF, y_train_RF, y_test_RF = train_test_split( X, Y, test_size = 0.3, random_state = 100)"
   ]
  },
  {
   "cell_type": "code",
   "execution_count": 25,
   "metadata": {
    "id": "PxbB7twQ_Ave"
   },
   "outputs": [],
   "source": [
    "clf = RandomForestClassifier(n_estimators = 500, random_state = 42)  "
   ]
  },
  {
   "cell_type": "code",
   "execution_count": 26,
   "metadata": {
    "id": "x0xW2ByQmncn"
   },
   "outputs": [],
   "source": [
    "# Instantiate model with 1000 decision trees\n",
    "clf = RandomForestClassifier(n_estimators = 1000, random_state = 42)\n",
    "# Train the model on training data\n",
    "clf.fit(X_train_RF, y_train_RF);\n",
    "\n",
    "# State is string and we want discreet integer values"
   ]
  },
  {
   "cell_type": "code",
   "execution_count": 27,
   "metadata": {
    "id": "3NiKh3-nnFEJ"
   },
   "outputs": [],
   "source": [
    "feature_importances = pd.DataFrame(clf.feature_importances_,\n",
    "                                   index = X_train_RF.columns,\n",
    "                                    columns=['importance']).sort_values('importance', \n",
    "                                                                        ascending=False)"
   ]
  },
  {
   "cell_type": "code",
   "execution_count": 28,
   "metadata": {
    "colab": {
     "base_uri": "https://localhost:8080/",
     "height": 300
    },
    "id": "oZtnUpyhnGlk",
    "outputId": "7ee1c49a-cd3d-4cc8-e246-253051a63887"
   },
   "outputs": [
    {
     "data": {
      "text/html": [
       "<div>\n",
       "<style scoped>\n",
       "    .dataframe tbody tr th:only-of-type {\n",
       "        vertical-align: middle;\n",
       "    }\n",
       "\n",
       "    .dataframe tbody tr th {\n",
       "        vertical-align: top;\n",
       "    }\n",
       "\n",
       "    .dataframe thead th {\n",
       "        text-align: right;\n",
       "    }\n",
       "</style>\n",
       "<table border=\"1\" class=\"dataframe\">\n",
       "  <thead>\n",
       "    <tr style=\"text-align: right;\">\n",
       "      <th></th>\n",
       "      <th>importance</th>\n",
       "    </tr>\n",
       "  </thead>\n",
       "  <tbody>\n",
       "    <tr>\n",
       "      <th>Day</th>\n",
       "      <td>0.223344</td>\n",
       "    </tr>\n",
       "    <tr>\n",
       "      <th>Road_Team</th>\n",
       "      <td>0.209353</td>\n",
       "    </tr>\n",
       "    <tr>\n",
       "      <th>Home_Team</th>\n",
       "      <td>0.176464</td>\n",
       "    </tr>\n",
       "    <tr>\n",
       "      <th>Year</th>\n",
       "      <td>0.117962</td>\n",
       "    </tr>\n",
       "    <tr>\n",
       "      <th>Weekday</th>\n",
       "      <td>0.094307</td>\n",
       "    </tr>\n",
       "    <tr>\n",
       "      <th>Conf</th>\n",
       "      <td>0.093035</td>\n",
       "    </tr>\n",
       "    <tr>\n",
       "      <th>Month</th>\n",
       "      <td>0.050054</td>\n",
       "    </tr>\n",
       "    <tr>\n",
       "      <th>OT</th>\n",
       "      <td>0.035481</td>\n",
       "    </tr>\n",
       "  </tbody>\n",
       "</table>\n",
       "</div>"
      ],
      "text/plain": [
       "           importance\n",
       "Day          0.223344\n",
       "Road_Team    0.209353\n",
       "Home_Team    0.176464\n",
       "Year         0.117962\n",
       "Weekday      0.094307\n",
       "Conf         0.093035\n",
       "Month        0.050054\n",
       "OT           0.035481"
      ]
     },
     "execution_count": 28,
     "metadata": {},
     "output_type": "execute_result"
    }
   ],
   "source": [
    "feature_importances"
   ]
  },
  {
   "cell_type": "code",
   "execution_count": 29,
   "metadata": {
    "id": "Ejj1lrZMnIQq"
   },
   "outputs": [],
   "source": [
    "importances = clf.feature_importances_ "
   ]
  },
  {
   "cell_type": "code",
   "execution_count": 30,
   "metadata": {
    "colab": {
     "base_uri": "https://localhost:8080/",
     "height": 684
    },
    "id": "I9wPyPIVnJ6e",
    "outputId": "263d397f-7dcb-479e-ecff-c40c259f5dd9"
   },
   "outputs": [
    {
     "name": "stdout",
     "output_type": "stream",
     "text": [
      "[0.0500537  0.22334374 0.11796205 0.09430733 0.20935302 0.17646439\n",
      " 0.09303523 0.03548053]\n"
     ]
    },
    {
     "data": {
      "text/plain": [
       "<AxesSubplot:>"
      ]
     },
     "execution_count": 30,
     "metadata": {},
     "output_type": "execute_result"
    },
    {
     "data": {
      "image/png": "[encoded data removed]",
      "text/plain": [
       "<Figure size 720x720 with 1 Axes>"
      ]
     },
     "metadata": {},
     "output_type": "display_data"
    }
   ],
   "source": [
    "\n",
    "# Get Feature Importance from the classifier\n",
    "feature_importance = clf.feature_importances_\n",
    "print (clf.feature_importances_)\n",
    "feat_importances = pd.Series(clf.feature_importances_, index=X_train_RF.columns)\n",
    "feat_importances = feat_importances.nlargest(5)\n",
    "feat_importances.plot(kind='barh' , figsize=(10,10)) "
   ]
  },
  {
   "cell_type": "code",
   "execution_count": 31,
   "metadata": {
    "colab": {
     "base_uri": "https://localhost:8080/",
     "height": 755
    },
    "id": "srrzaXnvnLC5",
    "outputId": "36bdf5e6-3ae1-4ce6-f712-3bfc8a94d681"
   },
   "outputs": [
    {
     "name": "stdout",
     "output_type": "stream",
     "text": [
      "[0.0500537  0.22334374 0.11796205 0.09430733 0.20935302 0.17646439\n",
      " 0.09303523 0.03548053]\n"
     ]
    },
    {
     "data": {
      "text/plain": [
       "<AxesSubplot:>"
      ]
     },
     "execution_count": 31,
     "metadata": {},
     "output_type": "execute_result"
    },
    {
     "data": {
      "image/png": "[encoded data removed]",
      "text/plain": [
       "<Figure size 720x720 with 1 Axes>"
      ]
     },
     "metadata": {},
     "output_type": "display_data"
    }
   ],
   "source": [
    "# Get Feature Importance from the classifier\n",
    "feature_importance = clf.feature_importances_\n",
    "print (clf.feature_importances_)\n",
    "feat_importances = pd.Series(clf.feature_importances_, index=X_train_RF.columns)\n",
    "feat_importances = feat_importances\n",
    "feat_importances.plot(kind='bar' , figsize=(10,10)) "
   ]
  },
  {
   "cell_type": "code",
   "execution_count": 32,
   "metadata": {
    "id": "wxmz0Zr2nntV"
   },
   "outputs": [],
   "source": [
    "indices = np.argsort(importances)[::-1]"
   ]
  },
  {
   "cell_type": "code",
   "execution_count": 33,
   "metadata": {
    "id": "nsxmeS-cnplR"
   },
   "outputs": [],
   "source": [
    "from sklearn.tree import export_graphviz\n",
    "estimator = clf.estimators_[1] # number of trees to visualise\n",
    "# Export as dot file\n",
    "export_graphviz(estimator, out_file='RandomForest.dot', \n",
    "                feature_names = X_train_RF.columns,\n",
    "                #class_names = y_train.columns,\n",
    "                rounded = True, proportion = False, \n",
    "                precision = 2, filled = True)\n",
    "\n",
    "# file will be saved in current working directory"
   ]
  },
  {
   "cell_type": "code",
   "execution_count": 34,
   "metadata": {
    "colab": {
     "base_uri": "https://localhost:8080/"
    },
    "id": "HNlHwhg0nqvL",
    "outputId": "1e085c77-1164-46a2-cdcd-9f05e474f35d"
   },
   "outputs": [
    {
     "name": "stdout",
     "output_type": "stream",
     "text": [
      "1. feature 1 (0.223344)\n",
      "feature name:  Day\n",
      "2. feature 4 (0.209353)\n",
      "feature name:  Road_Team\n",
      "3. feature 5 (0.176464)\n",
      "feature name:  Home_Team\n",
      "4. feature 2 (0.117962)\n",
      "feature name:  Year\n",
      "5. feature 3 (0.094307)\n",
      "feature name:  Weekday\n",
      "6. feature 6 (0.093035)\n",
      "feature name:  Conf\n",
      "7. feature 0 (0.050054)\n",
      "feature name:  Month\n",
      "8. feature 7 (0.035481)\n",
      "feature name:  OT\n"
     ]
    }
   ],
   "source": [
    "for f in range(X.shape[1]):\n",
    "    if importances[indices[f]] > 0:\n",
    "        print(\"%d. feature %d (%f)\" % (f + 1, indices[f], importances[indices[f]]))\n",
    "        print (\"feature name: \", X.columns[indices[f]])"
   ]
  },
  {
   "cell_type": "code",
   "execution_count": 35,
   "metadata": {
    "id": "tDLxwOMmnsRi"
   },
   "outputs": [],
   "source": [
    "# use the model to make predictions with the test data\n",
    "y_pred_RF = clf.predict(X_test_RF)"
   ]
  },
  {
   "cell_type": "code",
   "execution_count": 36,
   "metadata": {
    "id": "_oQyVwRDnuTV"
   },
   "outputs": [],
   "source": [
    "# combining 2 numpy arrays into one pandas dataframe\n",
    "final_model_predictions_RF = pd.DataFrame({'Actual':y_test_RF, 'predictions':y_pred_RF})"
   ]
  },
  {
   "cell_type": "code",
   "execution_count": 37,
   "metadata": {
    "colab": {
     "base_uri": "https://localhost:8080/",
     "height": 206
    },
    "id": "kn4UZc13nvjS",
    "outputId": "6b10c763-d35e-458a-de77-4476919273d9"
   },
   "outputs": [
    {
     "data": {
      "text/html": [
       "<div>\n",
       "<style scoped>\n",
       "    .dataframe tbody tr th:only-of-type {\n",
       "        vertical-align: middle;\n",
       "    }\n",
       "\n",
       "    .dataframe tbody tr th {\n",
       "        vertical-align: top;\n",
       "    }\n",
       "\n",
       "    .dataframe thead th {\n",
       "        text-align: right;\n",
       "    }\n",
       "</style>\n",
       "<table border=\"1\" class=\"dataframe\">\n",
       "  <thead>\n",
       "    <tr style=\"text-align: right;\">\n",
       "      <th></th>\n",
       "      <th>Actual</th>\n",
       "      <th>predictions</th>\n",
       "    </tr>\n",
       "  </thead>\n",
       "  <tbody>\n",
       "    <tr>\n",
       "      <th>1221</th>\n",
       "      <td>0</td>\n",
       "      <td>0</td>\n",
       "    </tr>\n",
       "    <tr>\n",
       "      <th>1763</th>\n",
       "      <td>1</td>\n",
       "      <td>1</td>\n",
       "    </tr>\n",
       "    <tr>\n",
       "      <th>620</th>\n",
       "      <td>1</td>\n",
       "      <td>0</td>\n",
       "    </tr>\n",
       "    <tr>\n",
       "      <th>754</th>\n",
       "      <td>0</td>\n",
       "      <td>0</td>\n",
       "    </tr>\n",
       "    <tr>\n",
       "      <th>1616</th>\n",
       "      <td>0</td>\n",
       "      <td>0</td>\n",
       "    </tr>\n",
       "  </tbody>\n",
       "</table>\n",
       "</div>"
      ],
      "text/plain": [
       "      Actual  predictions\n",
       "1221       0            0\n",
       "1763       1            1\n",
       "620        1            0\n",
       "754        0            0\n",
       "1616       0            0"
      ]
     },
     "execution_count": 37,
     "metadata": {},
     "output_type": "execute_result"
    }
   ],
   "source": [
    "final_model_predictions_RF.head()"
   ]
  },
  {
   "cell_type": "code",
   "execution_count": 38,
   "metadata": {
    "colab": {
     "base_uri": "https://localhost:8080/"
    },
    "id": "mxWbIix7nwuQ",
    "outputId": "15bb4ecc-cffd-4033-8ec6-564cf3032bef"
   },
   "outputs": [
    {
     "name": "stdout",
     "output_type": "stream",
     "text": [
      "Misclassified samples: 19\n",
      "Accuracy: 0.4865\n"
     ]
    }
   ],
   "source": [
    "\n",
    "# how did our model perform?\n",
    "count_misclassified = (y_test_RF != y_pred_RF).sum()\n",
    "print('Misclassified samples: {}'.format(count_misclassified))\n",
    "accuracy_RF = metrics.accuracy_score(y_test_RF, y_pred_RF)\n",
    "print('Accuracy: {:.4f}'.format(accuracy_RF))\n"
   ]
  },
  {
   "cell_type": "code",
   "execution_count": 39,
   "metadata": {
    "id": "xEybc1kNnyGj"
   },
   "outputs": [],
   "source": [
    "y_pred_prob = clf.predict_proba(X_test_RF)  # 2  columns for probability it is creating\n"
   ]
  },
  {
   "cell_type": "code",
   "execution_count": 40,
   "metadata": {
    "id": "KHigUFdclQvR"
   },
   "outputs": [],
   "source": [
    "y_pred_prob = clf.predict_proba(X_test_RF)[:,1]   # The first index refers to the probability that the data belong to class 0, and the second refers to the probability that the data belong to class 1"
   ]
  },
  {
   "cell_type": "code",
   "execution_count": 41,
   "metadata": {
    "id": "TwV42l1blU82"
   },
   "outputs": [],
   "source": [
    "final_model_predictions_RF['Predicted_prob'] = y_pred_prob"
   ]
  },
  {
   "cell_type": "code",
   "execution_count": 42,
   "metadata": {
    "colab": {
     "base_uri": "https://localhost:8080/",
     "height": 206
    },
    "id": "p-szTrqrlXv5",
    "outputId": "7fb98bc1-d006-4943-a135-6427a0efc573"
   },
   "outputs": [
    {
     "data": {
      "text/html": [
       "<div>\n",
       "<style scoped>\n",
       "    .dataframe tbody tr th:only-of-type {\n",
       "        vertical-align: middle;\n",
       "    }\n",
       "\n",
       "    .dataframe tbody tr th {\n",
       "        vertical-align: top;\n",
       "    }\n",
       "\n",
       "    .dataframe thead th {\n",
       "        text-align: right;\n",
       "    }\n",
       "</style>\n",
       "<table border=\"1\" class=\"dataframe\">\n",
       "  <thead>\n",
       "    <tr style=\"text-align: right;\">\n",
       "      <th></th>\n",
       "      <th>Actual</th>\n",
       "      <th>predictions</th>\n",
       "      <th>Predicted_prob</th>\n",
       "    </tr>\n",
       "  </thead>\n",
       "  <tbody>\n",
       "    <tr>\n",
       "      <th>1221</th>\n",
       "      <td>0</td>\n",
       "      <td>0</td>\n",
       "      <td>0.316</td>\n",
       "    </tr>\n",
       "    <tr>\n",
       "      <th>1763</th>\n",
       "      <td>1</td>\n",
       "      <td>1</td>\n",
       "      <td>0.720</td>\n",
       "    </tr>\n",
       "    <tr>\n",
       "      <th>620</th>\n",
       "      <td>1</td>\n",
       "      <td>0</td>\n",
       "      <td>0.326</td>\n",
       "    </tr>\n",
       "    <tr>\n",
       "      <th>754</th>\n",
       "      <td>0</td>\n",
       "      <td>0</td>\n",
       "      <td>0.058</td>\n",
       "    </tr>\n",
       "    <tr>\n",
       "      <th>1616</th>\n",
       "      <td>0</td>\n",
       "      <td>0</td>\n",
       "      <td>0.339</td>\n",
       "    </tr>\n",
       "  </tbody>\n",
       "</table>\n",
       "</div>"
      ],
      "text/plain": [
       "      Actual  predictions  Predicted_prob\n",
       "1221       0            0           0.316\n",
       "1763       1            1           0.720\n",
       "620        1            0           0.326\n",
       "754        0            0           0.058\n",
       "1616       0            0           0.339"
      ]
     },
     "execution_count": 42,
     "metadata": {},
     "output_type": "execute_result"
    }
   ],
   "source": [
    "final_model_predictions_RF.head()"
   ]
  },
  {
   "cell_type": "code",
   "execution_count": 43,
   "metadata": {
    "colab": {
     "base_uri": "https://localhost:8080/"
    },
    "id": "25rDNkyOlaJu",
    "outputId": "1c270e74-b2e0-4397-ce7d-da9959cf89fc"
   },
   "outputs": [
    {
     "name": "stdout",
     "output_type": "stream",
     "text": [
      "Using matplotlib backend: <object object at 0x000002179D3CAE70>\n"
     ]
    }
   ],
   "source": [
    "import matplotlib.pylab as plt\n",
    "import seaborn as sn\n",
    "%matplotlib \n"
   ]
  },
  {
   "cell_type": "code",
   "execution_count": 44,
   "metadata": {
    "id": "L-X_AWNhlfiE"
   },
   "outputs": [],
   "source": [
    "\n",
    "def draw_cm( actual, predicted ):\n",
    "    cm = metrics.confusion_matrix( actual, predicted )\n",
    "    sn.heatmap(cm, annot=True,  fmt='.2f', xticklabels = [\"Default\", \"No Default\"] , yticklabels = [\"Default\", \"No Default\"] )\n",
    "    plt.ylabel('True label')\n",
    "    plt.xlabel('Predicted label')\n",
    "    plt.show()  # correct 0 is sensitivity and correct is specificity"
   ]
  },
  {
   "cell_type": "code",
   "execution_count": 45,
   "metadata": {
    "colab": {
     "base_uri": "https://localhost:8080/",
     "height": 309
    },
    "id": "yxXdfIhnlh20",
    "outputId": "e9e10f4d-b19b-4063-b64a-57c929fbbc1f"
   },
   "outputs": [],
   "source": [
    "draw_cm( final_model_predictions_RF.Actual, final_model_predictions_RF.predictions )   # correct 0 is sensitivity and correct is specificity"
   ]
  },
  {
   "cell_type": "code",
   "execution_count": 46,
   "metadata": {
    "colab": {
     "base_uri": "https://localhost:8080/"
    },
    "id": "0QwJ77HtlkNO",
    "outputId": "e5c889a7-6aa7-4278-bfa5-b7dca3ffaee1"
   },
   "outputs": [
    {
     "name": "stdout",
     "output_type": "stream",
     "text": [
      "Total Accuracy :  49.00\n",
      "recall : 0.3333333333333333\n",
      "Precision : 0.35714285714285715\n"
     ]
    }
   ],
   "source": [
    "\n",
    "accuracy_RF=np.round( metrics.accuracy_score( final_model_predictions_RF.Actual, final_model_predictions_RF.predictions  ),2)*100\n",
    "accuracy_RF='{:.2f}'.format(accuracy_RF)\n",
    "print( 'Total Accuracy : ',accuracy_RF )\n",
    "recall_RF=metrics.recall_score(final_model_predictions_RF.Actual, final_model_predictions_RF.predictions )\n",
    "print('recall :',recall_RF)\n",
    "precision_RF=metrics.precision_score(final_model_predictions_RF.Actual, final_model_predictions_RF.predictions )\n",
    "print('Precision :',precision_RF)"
   ]
  },
  {
   "cell_type": "code",
   "execution_count": 47,
   "metadata": {
    "colab": {
     "base_uri": "https://localhost:8080/"
    },
    "id": "r65fwSr6lnQZ",
    "outputId": "ed68adab-eb06-4264-d31e-b7aeb01b07e9"
   },
   "outputs": [
    {
     "name": "stdout",
     "output_type": "stream",
     "text": [
      "Sensitivity :  0.59\n",
      "Specificity :  0.33\n"
     ]
    }
   ],
   "source": [
    "cm1 = metrics.confusion_matrix( final_model_predictions_RF.Actual, final_model_predictions_RF.predictions)\n",
    "\n",
    "sensitivity = cm1[0,0]/(cm1[0,0]+cm1[0,1])\n",
    "print('Sensitivity : ', round( sensitivity, 2) )\n",
    "\n",
    "specificity = cm1[1,1]/(cm1[1,0]+cm1[1,1])\n",
    "print('Specificity : ', round( specificity, 2 ) )"
   ]
  },
  {
   "cell_type": "code",
   "execution_count": 48,
   "metadata": {
    "colab": {
     "base_uri": "https://localhost:8080/"
    },
    "id": "NQCItJFClqGz",
    "outputId": "760c2f30-168c-4521-de2a-ca756fe93940"
   },
   "outputs": [
    {
     "name": "stdout",
     "output_type": "stream",
     "text": [
      "Using matplotlib backend: QtAgg\n"
     ]
    }
   ],
   "source": [
    "import matplotlib.pyplot as plt\n",
    "import seaborn as sn\n",
    "%matplotlib \n"
   ]
  },
  {
   "cell_type": "code",
   "execution_count": 49,
   "metadata": {
    "colab": {
     "base_uri": "https://localhost:8080/",
     "height": 321
    },
    "id": "_sEus9Vdlvnh",
    "outputId": "2fe4652d-8ea9-4f67-c228-b49191f9e5d9"
   },
   "outputs": [
    {
     "data": {
      "text/plain": [
       "<AxesSubplot:xlabel='Predicted_prob'>"
      ]
     },
     "execution_count": 49,
     "metadata": {},
     "output_type": "execute_result"
    }
   ],
   "source": [
    "sn.distplot( final_model_predictions_RF[final_model_predictions_RF.Actual == 1][\"Predicted_prob\"], kde=False, color = 'b' )\n",
    "sn.distplot( final_model_predictions_RF[final_model_predictions_RF.Actual == 0][\"Predicted_prob\"], kde=False, color = 'g' )"
   ]
  },
  {
   "cell_type": "code",
   "execution_count": 50,
   "metadata": {
    "colab": {
     "base_uri": "https://localhost:8080/"
    },
    "id": "wE1CXwLFl361",
    "outputId": "e00c63c2-08a0-44ed-d70b-5a6f51fd3b17"
   },
   "outputs": [
    {
     "data": {
      "text/plain": [
       "0.48"
      ]
     },
     "execution_count": 50,
     "metadata": {},
     "output_type": "execute_result"
    }
   ],
   "source": [
    "auc_score = metrics.roc_auc_score( final_model_predictions_RF.Actual, final_model_predictions_RF.Predicted_prob  )\n",
    "round( float( auc_score ), 2 )"
   ]
  },
  {
   "cell_type": "code",
   "execution_count": 51,
   "metadata": {
    "id": "YrInAvEym_Sr"
   },
   "outputs": [],
   "source": [
    "def draw_roc( actual, probs ):\n",
    "    fpr, tpr, thresholds = metrics.roc_curve( actual, probs,\n",
    "                                              drop_intermediate = False )\n",
    "    auc_score = metrics.roc_auc_score( actual, probs )\n",
    "    plt.figure(figsize=(6, 4))\n",
    "    plt.plot( fpr, tpr, label='ROC curve (area = %0.2f)' % auc_score )\n",
    "    plt.plot([0, 1], [0, 1], 'k--')\n",
    "    plt.xlim([0.0, 1.0])\n",
    "    plt.ylim([0.0, 1.05])\n",
    "    plt.xlabel('False Positive Rate or [1 - True Negative Rate]')\n",
    "    plt.ylabel('True Positive Rate')\n",
    "    plt.title('Receiver operating characteristic example')\n",
    "    plt.legend(loc=\"lower right\")\n",
    "    plt.show()\n",
    "\n",
    "    return fpr, tpr, thresholds"
   ]
  },
  {
   "cell_type": "code",
   "execution_count": 52,
   "metadata": {
    "colab": {
     "base_uri": "https://localhost:8080/",
     "height": 325
    },
    "id": "YU6YnQ9dnCpJ",
    "outputId": "989511a4-368d-4b2f-c98b-d55b6a336473"
   },
   "outputs": [],
   "source": [
    "fpr, tpr, thresholds = draw_roc( final_model_predictions_RF.Actual, final_model_predictions_RF.Predicted_prob )"
   ]
  },
  {
   "cell_type": "code",
   "execution_count": 53,
   "metadata": {
    "id": "jVuOt2OsnLYm"
   },
   "outputs": [],
   "source": [
    "columns=[\"Accuracy\", \"recall\", \"Precision \"]"
   ]
  },
  {
   "cell_type": "markdown",
   "metadata": {
    "id": "O6iD8wrBncmM"
   },
   "source": [
    "K-Nearest Neighbors Algorithm\n"
   ]
  },
  {
   "cell_type": "code",
   "execution_count": 58,
   "metadata": {
    "id": "NQKI4N7cneAI"
   },
   "outputs": [],
   "source": [
    "X_train_KNN, X_test_KNN, y_train_KNN, y_test_KNN = train_test_split( X, Y, test_size = 0.3, random_state = 100)"
   ]
  },
  {
   "cell_type": "code",
   "execution_count": 59,
   "metadata": {
    "id": "sowQH28RnivU"
   },
   "outputs": [],
   "source": [
    "from sklearn.preprocessing import StandardScaler\n",
    "scaler = StandardScaler()\n",
    "scaler.fit(X_train_KNN)\n",
    "\n",
    "X_train_knn = scaler.transform(X_train_KNN)\n",
    "X_test_knn = scaler.transform(X_test_KNN)"
   ]
  },
  {
   "cell_type": "code",
   "execution_count": 60,
   "metadata": {
    "colab": {
     "base_uri": "https://localhost:8080/"
    },
    "id": "dR6v4Elpnk6Q",
    "outputId": "bc5863f6-6323-472f-fa3a-9f1accf4be4a"
   },
   "outputs": [
    {
     "data": {
      "text/plain": [
       "KNeighborsClassifier(n_neighbors=2)"
      ]
     },
     "execution_count": 60,
     "metadata": {},
     "output_type": "execute_result"
    }
   ],
   "source": [
    "from sklearn.neighbors import KNeighborsClassifier\n",
    "classifier = KNeighborsClassifier(n_neighbors=2)\n",
    "classifier.fit(X_train_knn, y_train_KNN)"
   ]
  },
  {
   "cell_type": "code",
   "execution_count": 61,
   "metadata": {
    "id": "yH8fmBsOnybV"
   },
   "outputs": [],
   "source": [
    "y_pred_knn = classifier.predict(X_test_knn)"
   ]
  },
  {
   "cell_type": "code",
   "execution_count": 62,
   "metadata": {
    "colab": {
     "base_uri": "https://localhost:8080/"
    },
    "id": "eZnVYspwn19s",
    "outputId": "8fef179f-4ebf-4d9a-d89c-b6f0bd96fd5e"
   },
   "outputs": [
    {
     "name": "stdout",
     "output_type": "stream",
     "text": [
      "[[17  5]\n",
      " [12  3]]\n",
      "              precision    recall  f1-score   support\n",
      "\n",
      "           0       0.59      0.77      0.67        22\n",
      "           1       0.38      0.20      0.26        15\n",
      "\n",
      "    accuracy                           0.54        37\n",
      "   macro avg       0.48      0.49      0.46        37\n",
      "weighted avg       0.50      0.54      0.50        37\n",
      "\n"
     ]
    }
   ],
   "source": [
    "from sklearn.metrics import classification_report, confusion_matrix\n",
    "print(confusion_matrix(y_test_KNN, y_pred_knn))\n",
    "print(classification_report(y_test_KNN, y_pred_knn))"
   ]
  },
  {
   "cell_type": "code",
   "execution_count": 63,
   "metadata": {
    "id": "FiPF31fwn4J4"
   },
   "outputs": [],
   "source": [
    "final_model_predictions_knn = pd.DataFrame({'Actual':y_test_KNN, 'predictions':y_pred_knn})"
   ]
  },
  {
   "cell_type": "code",
   "execution_count": 64,
   "metadata": {
    "colab": {
     "base_uri": "https://localhost:8080/",
     "height": 304
    },
    "id": "GrFk0b_3n9lo",
    "outputId": "f0cff220-75d2-4fd5-d094-9a2b1a800f2a"
   },
   "outputs": [
    {
     "data": {
      "image/png": "[encoded data removed]",
      "text/plain": [
       "<Figure size 432x288 with 2 Axes>"
      ]
     },
     "metadata": {},
     "output_type": "display_data"
    }
   ],
   "source": [
    "draw_cm( final_model_predictions_knn.Actual, final_model_predictions_knn.predictions )   # correct 0 is sensitivity and correct is specificity"
   ]
  },
  {
   "cell_type": "code",
   "execution_count": 65,
   "metadata": {
    "colab": {
     "base_uri": "https://localhost:8080/"
    },
    "id": "vmTAPv6koBHn",
    "outputId": "06ab8270-bacc-437d-d7a9-d357500a961a"
   },
   "outputs": [
    {
     "name": "stdout",
     "output_type": "stream",
     "text": [
      "Total Accuracy :  54.05\n",
      "recall 0.2\n",
      "Precision 0.375\n"
     ]
    }
   ],
   "source": [
    "accuracy_knn=metrics.accuracy_score( final_model_predictions_knn.Actual, final_model_predictions_knn.predictions)*100\n",
    "accuracy_knn='{:.2f}'.format(accuracy_knn)\n",
    "print( 'Total Accuracy : ',accuracy_knn)\n",
    "recall_knn=metrics.recall_score(final_model_predictions_knn.Actual, final_model_predictions_knn.predictions )\n",
    "print('recall',recall_knn)\n",
    "Precision_knn=metrics.precision_score(final_model_predictions_knn.Actual, final_model_predictions_knn.predictions )\n",
    "print('Precision',Precision_knn)"
   ]
  },
  {
   "cell_type": "code",
   "execution_count": 66,
   "metadata": {
    "colab": {
     "base_uri": "https://localhost:8080/"
    },
    "id": "pc7uZXLKoEeU",
    "outputId": "f7e46240-f2d2-4a4e-ab34-e4a29ca43d40"
   },
   "outputs": [
    {
     "name": "stdout",
     "output_type": "stream",
     "text": [
      "Sensitivity :  0.77\n",
      "Specificity :  0.2\n"
     ]
    }
   ],
   "source": [
    "cm2 = metrics.confusion_matrix( final_model_predictions_knn.Actual, final_model_predictions_knn.predictions)\n",
    "\n",
    "sensitivity = cm2[0,0]/(cm2[0,0]+cm2[0,1])\n",
    "print('Sensitivity : ', round( sensitivity, 2) )\n",
    "\n",
    "specificity = cm2[1,1]/(cm2[1,0]+cm2[1,1])\n",
    "print('Specificity : ', round( specificity, 2 ) )"
   ]
  },
  {
   "cell_type": "code",
   "execution_count": 67,
   "metadata": {
    "colab": {
     "base_uri": "https://localhost:8080/",
     "height": 112
    },
    "id": "FafD5ZguoilI",
    "outputId": "2b04c0fc-1c2d-4b2a-aef3-ca8065865f4b"
   },
   "outputs": [
    {
     "data": {
      "text/html": [
       "\n",
       "  <div id=\"df-163995bb-8db8-435a-a7e9-cf92c78e7056\">\n",
       "    <div class=\"colab-df-container\">\n",
       "      <div>\n",
       "<style scoped>\n",
       "    .dataframe tbody tr th:only-of-type {\n",
       "        vertical-align: middle;\n",
       "    }\n",
       "\n",
       "    .dataframe tbody tr th {\n",
       "        vertical-align: top;\n",
       "    }\n",
       "\n",
       "    .dataframe thead th {\n",
       "        text-align: right;\n",
       "    }\n",
       "</style>\n",
       "<table border=\"1\" class=\"dataframe\">\n",
       "  <thead>\n",
       "    <tr style=\"text-align: right;\">\n",
       "      <th></th>\n",
       "      <th>Algorithm</th>\n",
       "      <th>Accuracy</th>\n",
       "      <th>Recall</th>\n",
       "      <th>Precision</th>\n",
       "    </tr>\n",
       "  </thead>\n",
       "  <tbody>\n",
       "    <tr>\n",
       "      <th>0</th>\n",
       "      <td>Random Forest</td>\n",
       "      <td>49.00</td>\n",
       "      <td>0.333333</td>\n",
       "      <td>0.357143</td>\n",
       "    </tr>\n",
       "    <tr>\n",
       "      <th>1</th>\n",
       "      <td>K-Nearest Neighbors Algorithm</td>\n",
       "      <td>54.05</td>\n",
       "      <td>0.200000</td>\n",
       "      <td>0.375000</td>\n",
       "    </tr>\n",
       "  </tbody>\n",
       "</table>\n",
       "</div>\n",
       "      <button class=\"colab-df-convert\" onclick=\"convertToInteractive('df-163995bb-8db8-435a-a7e9-cf92c78e7056')\"\n",
       "              title=\"Convert this dataframe to an interactive table.\"\n",
       "              style=\"display:none;\">\n",
       "        \n",
       "  <svg xmlns=\"http://www.w3.org/2000/svg\" height=\"24px\"viewBox=\"0 0 24 24\"\n",
       "       width=\"24px\">\n",
       "    <path d=\"M0 0h24v24H0V0z\" fill=\"none\"/>\n",
       "    <path d=\"M18.56 5.44l.94 2.06.94-2.06 2.06-.94-2.06-.94-.94-2.06-.94 2.06-2.06.94zm-11 1L8.5 8.5l.94-2.06 2.06-.94-2.06-.94L8.5 2.5l-.94 2.06-2.06.94zm10 10l.94 2.06.94-2.06 2.06-.94-2.06-.94-.94-2.06-.94 2.06-2.06.94z\"/><path d=\"M17.41 7.96l-1.37-1.37c-.4-.4-.92-.59-1.43-.59-.52 0-1.04.2-1.43.59L10.3 9.45l-7.72 7.72c-.78.78-.78 2.05 0 2.83L4 21.41c.39.39.9.59 1.41.59.51 0 1.02-.2 1.41-.59l7.78-7.78 2.81-2.81c.8-.78.8-2.07 0-2.86zM5.41 20L4 18.59l7.72-7.72 1.47 1.35L5.41 20z\"/>\n",
       "  </svg>\n",
       "      </button>\n",
       "      \n",
       "  <style>\n",
       "    .colab-df-container {\n",
       "      display:flex;\n",
       "      flex-wrap:wrap;\n",
       "      gap: 12px;\n",
       "    }\n",
       "\n",
       "    .colab-df-convert {\n",
       "      background-color: #E8F0FE;\n",
       "      border: none;\n",
       "      border-radius: 50%;\n",
       "      cursor: pointer;\n",
       "      display: none;\n",
       "      fill: #1967D2;\n",
       "      height: 32px;\n",
       "      padding: 0 0 0 0;\n",
       "      width: 32px;\n",
       "    }\n",
       "\n",
       "    .colab-df-convert:hover {\n",
       "      background-color: #E2EBFA;\n",
       "      box-shadow: 0px 1px 2px rgba(60, 64, 67, 0.3), 0px 1px 3px 1px rgba(60, 64, 67, 0.15);\n",
       "      fill: #174EA6;\n",
       "    }\n",
       "\n",
       "    [theme=dark] .colab-df-convert {\n",
       "      background-color: #3B4455;\n",
       "      fill: #D2E3FC;\n",
       "    }\n",
       "\n",
       "    [theme=dark] .colab-df-convert:hover {\n",
       "      background-color: #434B5C;\n",
       "      box-shadow: 0px 1px 3px 1px rgba(0, 0, 0, 0.15);\n",
       "      filter: drop-shadow(0px 1px 2px rgba(0, 0, 0, 0.3));\n",
       "      fill: #FFFFFF;\n",
       "    }\n",
       "  </style>\n",
       "\n",
       "      <script>\n",
       "        const buttonEl =\n",
       "          document.querySelector('#df-163995bb-8db8-435a-a7e9-cf92c78e7056 button.colab-df-convert');\n",
       "        buttonEl.style.display =\n",
       "          google.colab.kernel.accessAllowed ? 'block' : 'none';\n",
       "\n",
       "        async function convertToInteractive(key) {\n",
       "          const element = document.querySelector('#df-163995bb-8db8-435a-a7e9-cf92c78e7056');\n",
       "          const dataTable =\n",
       "            await google.colab.kernel.invokeFunction('convertToInteractive',\n",
       "                                                     [key], {});\n",
       "          if (!dataTable) return;\n",
       "\n",
       "          const docLinkHtml = 'Like what you see? Visit the ' +\n",
       "            '<a target=\"_blank\" href=https://colab.research.google.com/notebooks/data_table.ipynb>data table notebook</a>'\n",
       "            + ' to learn more about interactive tables.';\n",
       "          element.innerHTML = '';\n",
       "          dataTable['output_type'] = 'display_data';\n",
       "          await google.colab.output.renderOutput(dataTable, element);\n",
       "          const docLink = document.createElement('div');\n",
       "          docLink.innerHTML = docLinkHtml;\n",
       "          element.appendChild(docLink);\n",
       "        }\n",
       "      </script>\n",
       "    </div>\n",
       "  </div>\n",
       "  "
      ],
      "text/plain": [
       "                       Algorithm Accuracy    Recall  Precision \n",
       "0                  Random Forest    49.00  0.333333    0.357143\n",
       "1  K-Nearest Neighbors Algorithm    54.05  0.200000    0.375000"
      ]
     },
     "execution_count": 67,
     "metadata": {},
     "output_type": "execute_result"
    }
   ],
   "source": [
    "rows_knn=pd.DataFrame({\"Algorithm\":['Random Forest','K-Nearest Neighbors Algorithm'],\"Accuracy\":[accuracy_RF,accuracy_knn],\"Recall\":[recall_RF,recall_knn],\"Precision \":[precision_RF,Precision_knn]})\n",
    "rows_knn"
   ]
  },
  {
   "cell_type": "markdown",
   "metadata": {
    "id": "9BLCDVGvou1Q"
   },
   "source": [
    "Support Vector Classifier"
   ]
  },
  {
   "cell_type": "code",
   "execution_count": 68,
   "metadata": {
    "id": "Qjf_wL-Govne"
   },
   "outputs": [],
   "source": [
    "x_svm=X.head(500)\n",
    "y_svm=Y.head(500)\n",
    "#support vector classifier works slow for large data sets. hence it is trimmed"
   ]
  },
  {
   "cell_type": "code",
   "execution_count": 69,
   "metadata": {
    "id": "bdHajkvLo06y"
   },
   "outputs": [],
   "source": [
    "X_train_SVC, X_test_SVC, y_train_SVC, y_test_SVC = train_test_split( x_svm, y_svm, test_size = 0.3, random_state = 100)"
   ]
  },
  {
   "cell_type": "code",
   "execution_count": 70,
   "metadata": {
    "id": "0Jth8g59o3GK"
   },
   "outputs": [],
   "source": [
    "from sklearn.svm import SVC # \"Support Vector Classifier\" \n",
    "clfsvm = SVC(kernel='linear') "
   ]
  },
  {
   "cell_type": "code",
   "execution_count": 71,
   "metadata": {
    "colab": {
     "base_uri": "https://localhost:8080/"
    },
    "id": "m4zv7I_Ao5q4",
    "outputId": "61f6618a-792a-46b6-bd7a-b3d42479b651"
   },
   "outputs": [
    {
     "data": {
      "text/plain": [
       "SVC(kernel='linear')"
      ]
     },
     "execution_count": 71,
     "metadata": {},
     "output_type": "execute_result"
    }
   ],
   "source": [
    "# fitting x samples and y classes \n",
    "clfsvm.fit(X_train_SVC,y_train_SVC) "
   ]
  },
  {
   "cell_type": "code",
   "execution_count": 72,
   "metadata": {
    "id": "WZLLfV6Bo74F"
   },
   "outputs": [],
   "source": [
    "y_pred_SVC=clfsvm.predict(X_test_SVC)"
   ]
  },
  {
   "cell_type": "code",
   "execution_count": 73,
   "metadata": {
    "id": "OqWj4kEJpA9k"
   },
   "outputs": [],
   "source": [
    "final_model_predictions_SVC = pd.DataFrame({'Actual':y_test_SVC, 'predictions':y_pred_SVC})"
   ]
  },
  {
   "cell_type": "code",
   "execution_count": 74,
   "metadata": {
    "colab": {
     "base_uri": "https://localhost:8080/"
    },
    "id": "HqxqIrSdpDSH",
    "outputId": "c9897062-db77-4c4f-eb30-f3f11a686f64"
   },
   "outputs": [
    {
     "name": "stdout",
     "output_type": "stream",
     "text": [
      "Misclassified samples: 13\n",
      "Accuracy: 0.65\n"
     ]
    }
   ],
   "source": [
    "# how did our model perform?\n",
    "count_misclassified = (y_test_SVC != y_pred_SVC).sum()\n",
    "print('Misclassified samples: {}'.format(count_misclassified))\n",
    "accuracy_SVC = metrics.accuracy_score(y_test_SVC, y_pred_SVC)\n",
    "print('Accuracy: {:.2f}'.format(accuracy_SVC))"
   ]
  },
  {
   "cell_type": "code",
   "execution_count": 75,
   "metadata": {
    "id": "ydYmbcJIpFUP"
   },
   "outputs": [],
   "source": [
    "from sklearn.metrics import classification_report, confusion_matrix"
   ]
  },
  {
   "cell_type": "code",
   "execution_count": 76,
   "metadata": {
    "colab": {
     "base_uri": "https://localhost:8080/"
    },
    "id": "L9p78ZFQpIJk",
    "outputId": "09d91e45-635d-4957-85f7-a380c2640472"
   },
   "outputs": [
    {
     "name": "stdout",
     "output_type": "stream",
     "text": [
      "[[18  4]\n",
      " [ 9  6]]\n",
      "              precision    recall  f1-score   support\n",
      "\n",
      "           0       0.67      0.82      0.73        22\n",
      "           1       0.60      0.40      0.48        15\n",
      "\n",
      "    accuracy                           0.65        37\n",
      "   macro avg       0.63      0.61      0.61        37\n",
      "weighted avg       0.64      0.65      0.63        37\n",
      "\n",
      "-----------------------------------------------------------------------------------------------------------------------\n",
      "-----------------------------------------------------------------------------------------------------------------------\n",
      "Total Accuracy :  64.86\n",
      "recall 0.6486486486486487\n",
      "Precision 0.6486486486486487\n"
     ]
    }
   ],
   "source": [
    "print(confusion_matrix(y_test_SVC, y_pred_SVC))\n",
    "print(classification_report(y_test_SVC, y_pred_SVC))\n",
    "print(\"-----------------------------------------------------------------------------------------------------------------------\")\n",
    "\n",
    "print(\"-----------------------------------------------------------------------------------------------------------------------\")\n",
    "accuracy_SVC=metrics.accuracy_score( final_model_predictions_SVC.Actual, final_model_predictions_SVC.predictions  )*100\n",
    "accuracy_SVC='{:.2f}'.format(accuracy_SVC)\n",
    "print( 'Total Accuracy : ',accuracy_SVC)\n",
    "recall_SVC=metrics.recall_score(final_model_predictions_SVC.Actual, final_model_predictions_SVC.predictions,average='micro' )\n",
    "print('recall',recall_SVC)\n",
    "Precision_SVC=metrics.precision_score(final_model_predictions_SVC.Actual, final_model_predictions_SVC.predictions,average='micro' )\n",
    "print('Precision',Precision_SVC)"
   ]
  },
  {
   "cell_type": "code",
   "execution_count": 77,
   "metadata": {
    "colab": {
     "base_uri": "https://localhost:8080/",
     "height": 143
    },
    "id": "sb0Z2UDzpU1_",
    "outputId": "44b9b533-f605-4be8-df65-83234cfa7b10"
   },
   "outputs": [
    {
     "data": {
      "text/html": [
       "\n",
       "  <div id=\"df-b6c1e9a5-2018-4892-93dc-aa9ba6a21180\">\n",
       "    <div class=\"colab-df-container\">\n",
       "      <div>\n",
       "<style scoped>\n",
       "    .dataframe tbody tr th:only-of-type {\n",
       "        vertical-align: middle;\n",
       "    }\n",
       "\n",
       "    .dataframe tbody tr th {\n",
       "        vertical-align: top;\n",
       "    }\n",
       "\n",
       "    .dataframe thead th {\n",
       "        text-align: right;\n",
       "    }\n",
       "</style>\n",
       "<table border=\"1\" class=\"dataframe\">\n",
       "  <thead>\n",
       "    <tr style=\"text-align: right;\">\n",
       "      <th></th>\n",
       "      <th>Accuracy</th>\n",
       "      <th>Recall</th>\n",
       "      <th>Precision</th>\n",
       "    </tr>\n",
       "  </thead>\n",
       "  <tbody>\n",
       "    <tr>\n",
       "      <th>Random Forest</th>\n",
       "      <td>49.00</td>\n",
       "      <td>0.333333</td>\n",
       "      <td>0.357143</td>\n",
       "    </tr>\n",
       "    <tr>\n",
       "      <th>KNN</th>\n",
       "      <td>54.05</td>\n",
       "      <td>0.200000</td>\n",
       "      <td>0.375000</td>\n",
       "    </tr>\n",
       "    <tr>\n",
       "      <th>Support Vector Classifier</th>\n",
       "      <td>64.86</td>\n",
       "      <td>0.648649</td>\n",
       "      <td>0.648649</td>\n",
       "    </tr>\n",
       "  </tbody>\n",
       "</table>\n",
       "</div>\n",
       "      <button class=\"colab-df-convert\" onclick=\"convertToInteractive('df-b6c1e9a5-2018-4892-93dc-aa9ba6a21180')\"\n",
       "              title=\"Convert this dataframe to an interactive table.\"\n",
       "              style=\"display:none;\">\n",
       "        \n",
       "  <svg xmlns=\"http://www.w3.org/2000/svg\" height=\"24px\"viewBox=\"0 0 24 24\"\n",
       "       width=\"24px\">\n",
       "    <path d=\"M0 0h24v24H0V0z\" fill=\"none\"/>\n",
       "    <path d=\"M18.56 5.44l.94 2.06.94-2.06 2.06-.94-2.06-.94-.94-2.06-.94 2.06-2.06.94zm-11 1L8.5 8.5l.94-2.06 2.06-.94-2.06-.94L8.5 2.5l-.94 2.06-2.06.94zm10 10l.94 2.06.94-2.06 2.06-.94-2.06-.94-.94-2.06-.94 2.06-2.06.94z\"/><path d=\"M17.41 7.96l-1.37-1.37c-.4-.4-.92-.59-1.43-.59-.52 0-1.04.2-1.43.59L10.3 9.45l-7.72 7.72c-.78.78-.78 2.05 0 2.83L4 21.41c.39.39.9.59 1.41.59.51 0 1.02-.2 1.41-.59l7.78-7.78 2.81-2.81c.8-.78.8-2.07 0-2.86zM5.41 20L4 18.59l7.72-7.72 1.47 1.35L5.41 20z\"/>\n",
       "  </svg>\n",
       "      </button>\n",
       "      \n",
       "  <style>\n",
       "    .colab-df-container {\n",
       "      display:flex;\n",
       "      flex-wrap:wrap;\n",
       "      gap: 12px;\n",
       "    }\n",
       "\n",
       "    .colab-df-convert {\n",
       "      background-color: #E8F0FE;\n",
       "      border: none;\n",
       "      border-radius: 50%;\n",
       "      cursor: pointer;\n",
       "      display: none;\n",
       "      fill: #1967D2;\n",
       "      height: 32px;\n",
       "      padding: 0 0 0 0;\n",
       "      width: 32px;\n",
       "    }\n",
       "\n",
       "    .colab-df-convert:hover {\n",
       "      background-color: #E2EBFA;\n",
       "      box-shadow: 0px 1px 2px rgba(60, 64, 67, 0.3), 0px 1px 3px 1px rgba(60, 64, 67, 0.15);\n",
       "      fill: #174EA6;\n",
       "    }\n",
       "\n",
       "    [theme=dark] .colab-df-convert {\n",
       "      background-color: #3B4455;\n",
       "      fill: #D2E3FC;\n",
       "    }\n",
       "\n",
       "    [theme=dark] .colab-df-convert:hover {\n",
       "      background-color: #434B5C;\n",
       "      box-shadow: 0px 1px 3px 1px rgba(0, 0, 0, 0.15);\n",
       "      filter: drop-shadow(0px 1px 2px rgba(0, 0, 0, 0.3));\n",
       "      fill: #FFFFFF;\n",
       "    }\n",
       "  </style>\n",
       "\n",
       "      <script>\n",
       "        const buttonEl =\n",
       "          document.querySelector('#df-b6c1e9a5-2018-4892-93dc-aa9ba6a21180 button.colab-df-convert');\n",
       "        buttonEl.style.display =\n",
       "          google.colab.kernel.accessAllowed ? 'block' : 'none';\n",
       "\n",
       "        async function convertToInteractive(key) {\n",
       "          const element = document.querySelector('#df-b6c1e9a5-2018-4892-93dc-aa9ba6a21180');\n",
       "          const dataTable =\n",
       "            await google.colab.kernel.invokeFunction('convertToInteractive',\n",
       "                                                     [key], {});\n",
       "          if (!dataTable) return;\n",
       "\n",
       "          const docLinkHtml = 'Like what you see? Visit the ' +\n",
       "            '<a target=\"_blank\" href=https://colab.research.google.com/notebooks/data_table.ipynb>data table notebook</a>'\n",
       "            + ' to learn more about interactive tables.';\n",
       "          element.innerHTML = '';\n",
       "          dataTable['output_type'] = 'display_data';\n",
       "          await google.colab.output.renderOutput(dataTable, element);\n",
       "          const docLink = document.createElement('div');\n",
       "          docLink.innerHTML = docLinkHtml;\n",
       "          element.appendChild(docLink);\n",
       "        }\n",
       "      </script>\n",
       "    </div>\n",
       "  </div>\n",
       "  "
      ],
      "text/plain": [
       "                          Accuracy    Recall  Precision \n",
       "Random Forest                49.00  0.333333    0.357143\n",
       "KNN                          54.05  0.200000    0.375000\n",
       "Support Vector Classifier    64.86  0.648649    0.648649"
      ]
     },
     "execution_count": 77,
     "metadata": {},
     "output_type": "execute_result"
    }
   ],
   "source": [
    "table=pd.DataFrame({\"Accuracy\":[accuracy_RF,accuracy_knn,accuracy_SVC],\n",
    "                    \"Recall\":[recall_RF,recall_knn,recall_SVC],\n",
    "                    \"Precision \":[precision_RF,Precision_knn ,Precision_SVC]},\n",
    "                   index=[\"Random Forest\",\"KNN\",\"Support Vector Classifier\"])\n",
    "table"
   ]
  },
  {
   "cell_type": "code",
   "execution_count": 81,
   "metadata": {
    "colab": {
     "base_uri": "https://localhost:8080/",
     "height": 517
    },
    "id": "1ugWywRgpZBN",
    "outputId": "ae5a60e7-0497-4372-c3ed-213b35394729"
   },
   "outputs": [
    {
     "name": "stdout",
     "output_type": "stream",
     "text": [
      "recall 0.6486486486486487\n",
      "Precision 0.6486486486486487\n",
      "LOGISITC REGRESSION model accuracy : 64.86 %\n",
      "              precision    recall  f1-score   support\n",
      "\n",
      "         Ham       0.67      0.82      0.73        22\n",
      "        Spam       0.60      0.40      0.48        15\n",
      "\n",
      "    accuracy                           0.65        37\n",
      "   macro avg       0.63      0.61      0.61        37\n",
      "weighted avg       0.64      0.65      0.63        37\n",
      "\n"
     ]
    },
    {
     "data": {
      "image/png": "[encoded data removed]",
      "text/plain": [
       "<Figure size 432x288 with 2 Axes>"
      ]
     },
     "metadata": {},
     "output_type": "display_data"
    }
   ],
   "source": [
    "from sklearn.linear_model import LogisticRegressionCV\n",
    "from sklearn.metrics import  accuracy_score , confusion_matrix , plot_confusion_matrix ,  classification_report\n",
    "X_train, X_test, y_train, y_test = train_test_split( X, Y, test_size = 0.3, random_state = 100)\n",
    "\n",
    "LR_Classification = LogisticRegressionCV().fit(X_train , y_train)\n",
    "\n",
    "LR_Classification_Prediction = LR_Classification.predict(X_test)\n",
    "\n",
    "LR_Acc = accuracy_score(y_test ,LR_Classification_Prediction)*100 \n",
    "recall_LR=metrics.recall_score(final_model_predictions_SVC.Actual, final_model_predictions_SVC.predictions,average='micro' )\n",
    "print('recall',recall_LR)\n",
    "Precision_LR=metrics.precision_score(final_model_predictions_SVC.Actual, final_model_predictions_SVC.predictions,average='micro' )\n",
    "print('Precision',Precision_LR)\n",
    "print(f\"LOGISITC REGRESSION model accuracy : {format(LR_Acc, '.2f')} %\")\n",
    "\n",
    "cm = confusion_matrix(y_test , LR_Classification_Prediction)\n",
    "\n",
    "dict = plot_confusion_matrix(LR_Classification, X_test , y_test , display_labels = [\"Ham\" , \"Spam\"] , cmap = plt.cm.Blues)\n",
    "plt.show()\n",
    "\n",
    "print(classification_report(y_test ,LR_Classification_Prediction  , target_names = [\"Ham\" ,\"Spam\"]))"
   ]
  },
  {
   "cell_type": "code",
   "execution_count": 83,
   "metadata": {
    "colab": {
     "base_uri": "https://localhost:8080/",
     "height": 175
    },
    "id": "JH_AC0cwF6vj",
    "outputId": "ba86dd8d-681f-4e62-a886-18259b1a6587"
   },
   "outputs": [
    {
     "data": {
      "text/html": [
       "\n",
       "  <div id=\"df-51826212-fd86-4a7c-881e-f84ba95e8034\">\n",
       "    <div class=\"colab-df-container\">\n",
       "      <div>\n",
       "<style scoped>\n",
       "    .dataframe tbody tr th:only-of-type {\n",
       "        vertical-align: middle;\n",
       "    }\n",
       "\n",
       "    .dataframe tbody tr th {\n",
       "        vertical-align: top;\n",
       "    }\n",
       "\n",
       "    .dataframe thead th {\n",
       "        text-align: right;\n",
       "    }\n",
       "</style>\n",
       "<table border=\"1\" class=\"dataframe\">\n",
       "  <thead>\n",
       "    <tr style=\"text-align: right;\">\n",
       "      <th></th>\n",
       "      <th>Accuracy</th>\n",
       "      <th>Recall</th>\n",
       "      <th>Precision</th>\n",
       "    </tr>\n",
       "  </thead>\n",
       "  <tbody>\n",
       "    <tr>\n",
       "      <th>Random Forest</th>\n",
       "      <td>49.00</td>\n",
       "      <td>0.333333</td>\n",
       "      <td>0.357143</td>\n",
       "    </tr>\n",
       "    <tr>\n",
       "      <th>KNN</th>\n",
       "      <td>54.05</td>\n",
       "      <td>0.200000</td>\n",
       "      <td>0.375000</td>\n",
       "    </tr>\n",
       "    <tr>\n",
       "      <th>Support Vector Classifier</th>\n",
       "      <td>64.86</td>\n",
       "      <td>0.648649</td>\n",
       "      <td>0.648649</td>\n",
       "    </tr>\n",
       "    <tr>\n",
       "      <th>Logistic</th>\n",
       "      <td>64.864865</td>\n",
       "      <td>0.648649</td>\n",
       "      <td>0.648649</td>\n",
       "    </tr>\n",
       "  </tbody>\n",
       "</table>\n",
       "</div>\n",
       "      <button class=\"colab-df-convert\" onclick=\"convertToInteractive('df-51826212-fd86-4a7c-881e-f84ba95e8034')\"\n",
       "              title=\"Convert this dataframe to an interactive table.\"\n",
       "              style=\"display:none;\">\n",
       "        \n",
       "  <svg xmlns=\"http://www.w3.org/2000/svg\" height=\"24px\"viewBox=\"0 0 24 24\"\n",
       "       width=\"24px\">\n",
       "    <path d=\"M0 0h24v24H0V0z\" fill=\"none\"/>\n",
       "    <path d=\"M18.56 5.44l.94 2.06.94-2.06 2.06-.94-2.06-.94-.94-2.06-.94 2.06-2.06.94zm-11 1L8.5 8.5l.94-2.06 2.06-.94-2.06-.94L8.5 2.5l-.94 2.06-2.06.94zm10 10l.94 2.06.94-2.06 2.06-.94-2.06-.94-.94-2.06-.94 2.06-2.06.94z\"/><path d=\"M17.41 7.96l-1.37-1.37c-.4-.4-.92-.59-1.43-.59-.52 0-1.04.2-1.43.59L10.3 9.45l-7.72 7.72c-.78.78-.78 2.05 0 2.83L4 21.41c.39.39.9.59 1.41.59.51 0 1.02-.2 1.41-.59l7.78-7.78 2.81-2.81c.8-.78.8-2.07 0-2.86zM5.41 20L4 18.59l7.72-7.72 1.47 1.35L5.41 20z\"/>\n",
       "  </svg>\n",
       "      </button>\n",
       "      \n",
       "  <style>\n",
       "    .colab-df-container {\n",
       "      display:flex;\n",
       "      flex-wrap:wrap;\n",
       "      gap: 12px;\n",
       "    }\n",
       "\n",
       "    .colab-df-convert {\n",
       "      background-color: #E8F0FE;\n",
       "      border: none;\n",
       "      border-radius: 50%;\n",
       "      cursor: pointer;\n",
       "      display: none;\n",
       "      fill: #1967D2;\n",
       "      height: 32px;\n",
       "      padding: 0 0 0 0;\n",
       "      width: 32px;\n",
       "    }\n",
       "\n",
       "    .colab-df-convert:hover {\n",
       "      background-color: #E2EBFA;\n",
       "      box-shadow: 0px 1px 2px rgba(60, 64, 67, 0.3), 0px 1px 3px 1px rgba(60, 64, 67, 0.15);\n",
       "      fill: #174EA6;\n",
       "    }\n",
       "\n",
       "    [theme=dark] .colab-df-convert {\n",
       "      background-color: #3B4455;\n",
       "      fill: #D2E3FC;\n",
       "    }\n",
       "\n",
       "    [theme=dark] .colab-df-convert:hover {\n",
       "      background-color: #434B5C;\n",
       "      box-shadow: 0px 1px 3px 1px rgba(0, 0, 0, 0.15);\n",
       "      filter: drop-shadow(0px 1px 2px rgba(0, 0, 0, 0.3));\n",
       "      fill: #FFFFFF;\n",
       "    }\n",
       "  </style>\n",
       "\n",
       "      <script>\n",
       "        const buttonEl =\n",
       "          document.querySelector('#df-51826212-fd86-4a7c-881e-f84ba95e8034 button.colab-df-convert');\n",
       "        buttonEl.style.display =\n",
       "          google.colab.kernel.accessAllowed ? 'block' : 'none';\n",
       "\n",
       "        async function convertToInteractive(key) {\n",
       "          const element = document.querySelector('#df-51826212-fd86-4a7c-881e-f84ba95e8034');\n",
       "          const dataTable =\n",
       "            await google.colab.kernel.invokeFunction('convertToInteractive',\n",
       "                                                     [key], {});\n",
       "          if (!dataTable) return;\n",
       "\n",
       "          const docLinkHtml = 'Like what you see? Visit the ' +\n",
       "            '<a target=\"_blank\" href=https://colab.research.google.com/notebooks/data_table.ipynb>data table notebook</a>'\n",
       "            + ' to learn more about interactive tables.';\n",
       "          element.innerHTML = '';\n",
       "          dataTable['output_type'] = 'display_data';\n",
       "          await google.colab.output.renderOutput(dataTable, element);\n",
       "          const docLink = document.createElement('div');\n",
       "          docLink.innerHTML = docLinkHtml;\n",
       "          element.appendChild(docLink);\n",
       "        }\n",
       "      </script>\n",
       "    </div>\n",
       "  </div>\n",
       "  "
      ],
      "text/plain": [
       "                            Accuracy    Recall  Precision \n",
       "Random Forest                  49.00  0.333333    0.357143\n",
       "KNN                            54.05  0.200000    0.375000\n",
       "Support Vector Classifier      64.86  0.648649    0.648649\n",
       "Logistic                   64.864865  0.648649    0.648649"
      ]
     },
     "execution_count": 83,
     "metadata": {},
     "output_type": "execute_result"
    }
   ],
   "source": [
    "table=pd.DataFrame({\"Accuracy\":[accuracy_RF,accuracy_knn,accuracy_SVC,LR_Acc],\n",
    "                    \"Recall\":[recall_RF,recall_knn,recall_SVC,recall_LR],\n",
    "                    \"Precision \":[precision_RF,Precision_knn ,Precision_SVC,Precision_LR]},\n",
    "                   index=[\"Random Forest\",\"KNN\",\"Support Vector Classifier\",\"Logistic \"])\n",
    "table"
   ]
  },
  {
   "cell_type": "code",
   "execution_count": null,
   "metadata": {
    "id": "Rzjkln4ZGtp6"
   },
   "outputs": [],
   "source": []
  }
 ],
 "metadata": {
  "colab": {
   "collapsed_sections": [],
   "name": "BasketballPrediction.ipynb",
   "provenance": []
  },
  "kernelspec": {
   "display_name": "Python 3 (ipykernel)",
   "language": "python",
   "name": "python3"
  },
  "language_info": {
   "codemirror_mode": {
    "name": "ipython",
    "version": 3
   },
   "file_extension": ".py",
   "mimetype": "text/x-python",
   "name": "python",
   "nbconvert_exporter": "python",
   "pygments_lexer": "ipython3",
   "version": "3.9.6"
  }
 },
 "nbformat": 4,
 "nbformat_minor": 1
}
